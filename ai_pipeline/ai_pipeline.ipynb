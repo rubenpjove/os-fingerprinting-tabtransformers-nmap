{
 "cells": [
  {
   "cell_type": "markdown",
   "metadata": {},
   "source": [
    "# Applying TabTranformers to OS fingerprinting task using nmap dataset"
   ]
  },
  {
   "cell_type": "markdown",
   "id": "7cf10ddc",
   "metadata": {},
   "source": [
    "### Installing Python dependencies "
   ]
  },
  {
   "cell_type": "code",
   "execution_count": 5,
   "id": "fdb5db3d",
   "metadata": {},
   "outputs": [],
   "source": [
    "# !python -m pip install --upgrade pip \n",
    "# !pip install pandas numpy tensorflow matplotlib seaborn optuna scikit-learn tabtransformertf"
   ]
  },
  {
   "cell_type": "code",
   "execution_count": 6,
   "metadata": {},
   "outputs": [],
   "source": [
    "import numpy as np\n",
    "import pandas as pd"
   ]
  },
  {
   "cell_type": "code",
   "execution_count": 7,
   "metadata": {},
   "outputs": [],
   "source": [
    "seed = 2024\n",
    "np.random.seed(seed)"
   ]
  },
  {
   "cell_type": "markdown",
   "metadata": {},
   "source": [
    "### Read dataset from disk"
   ]
  },
  {
   "cell_type": "code",
   "execution_count": 8,
   "metadata": {},
   "outputs": [],
   "source": [
    "df = pd.read_csv(\"../dataset/dataset_no_encoded_4397.csv\")"
   ]
  },
  {
   "cell_type": "code",
   "execution_count": 9,
   "metadata": {},
   "outputs": [
    {
     "data": {
      "text/html": [
       "<div>\n",
       "<style scoped>\n",
       "    .dataframe tbody tr th:only-of-type {\n",
       "        vertical-align: middle;\n",
       "    }\n",
       "\n",
       "    .dataframe tbody tr th {\n",
       "        vertical-align: top;\n",
       "    }\n",
       "\n",
       "    .dataframe thead th {\n",
       "        text-align: right;\n",
       "    }\n",
       "</style>\n",
       "<table border=\"1\" class=\"dataframe\">\n",
       "  <thead>\n",
       "    <tr style=\"text-align: right;\">\n",
       "      <th></th>\n",
       "      <th>Class.vendor_0</th>\n",
       "      <th>Class.OSfamily_0</th>\n",
       "      <th>Class.OSgen_0</th>\n",
       "      <th>Class.device_0</th>\n",
       "      <th>SEQ.SP_0</th>\n",
       "      <th>SEQ.GCD_0</th>\n",
       "      <th>SEQ.ISR_0</th>\n",
       "      <th>SEQ.TI_0</th>\n",
       "      <th>SEQ.TI_1</th>\n",
       "      <th>SEQ.CI_0</th>\n",
       "      <th>...</th>\n",
       "      <th>U1.RIPCK_0</th>\n",
       "      <th>U1.RUCK_0</th>\n",
       "      <th>U1.RUCK_1</th>\n",
       "      <th>U1.RUD_0</th>\n",
       "      <th>IE.R_0</th>\n",
       "      <th>IE.DFI_0</th>\n",
       "      <th>IE.T_0</th>\n",
       "      <th>IE.TG_0</th>\n",
       "      <th>IE.CD_0</th>\n",
       "      <th>IE.CD_1</th>\n",
       "    </tr>\n",
       "  </thead>\n",
       "  <tbody>\n",
       "    <tr>\n",
       "      <th>0</th>\n",
       "      <td>Linux</td>\n",
       "      <td>Linux</td>\n",
       "      <td>NaN</td>\n",
       "      <td>WAP</td>\n",
       "      <td>255</td>\n",
       "      <td>3</td>\n",
       "      <td>261</td>\n",
       "      <td>I</td>\n",
       "      <td>-1</td>\n",
       "      <td>NO</td>\n",
       "      <td>...</td>\n",
       "      <td>NO</td>\n",
       "      <td>NO</td>\n",
       "      <td>-1</td>\n",
       "      <td>NO</td>\n",
       "      <td>NO</td>\n",
       "      <td>N</td>\n",
       "      <td>128</td>\n",
       "      <td>128</td>\n",
       "      <td>S</td>\n",
       "      <td>-1</td>\n",
       "    </tr>\n",
       "    <tr>\n",
       "      <th>1</th>\n",
       "      <td>Linux</td>\n",
       "      <td>Linux</td>\n",
       "      <td>2.4.X</td>\n",
       "      <td>specialized</td>\n",
       "      <td>207</td>\n",
       "      <td>5</td>\n",
       "      <td>207</td>\n",
       "      <td>Z</td>\n",
       "      <td>-1</td>\n",
       "      <td>Z</td>\n",
       "      <td>...</td>\n",
       "      <td>G</td>\n",
       "      <td>G</td>\n",
       "      <td>-1</td>\n",
       "      <td>G</td>\n",
       "      <td>NO</td>\n",
       "      <td>N</td>\n",
       "      <td>63</td>\n",
       "      <td>64</td>\n",
       "      <td>S</td>\n",
       "      <td>-1</td>\n",
       "    </tr>\n",
       "    <tr>\n",
       "      <th>2</th>\n",
       "      <td>Linux</td>\n",
       "      <td>Linux</td>\n",
       "      <td>2.6.X</td>\n",
       "      <td>specialized</td>\n",
       "      <td>0</td>\n",
       "      <td>64001</td>\n",
       "      <td>155</td>\n",
       "      <td>I</td>\n",
       "      <td>-1</td>\n",
       "      <td>I</td>\n",
       "      <td>...</td>\n",
       "      <td>G</td>\n",
       "      <td>G</td>\n",
       "      <td>-1</td>\n",
       "      <td>G</td>\n",
       "      <td>NO</td>\n",
       "      <td>S</td>\n",
       "      <td>67</td>\n",
       "      <td>64</td>\n",
       "      <td>Z</td>\n",
       "      <td>-1</td>\n",
       "    </tr>\n",
       "    <tr>\n",
       "      <th>3</th>\n",
       "      <td>Linux</td>\n",
       "      <td>Linux</td>\n",
       "      <td>2.6.X</td>\n",
       "      <td>specialized</td>\n",
       "      <td>1</td>\n",
       "      <td>128002</td>\n",
       "      <td>151</td>\n",
       "      <td>I</td>\n",
       "      <td>-1</td>\n",
       "      <td>I</td>\n",
       "      <td>...</td>\n",
       "      <td>G</td>\n",
       "      <td>G</td>\n",
       "      <td>-1</td>\n",
       "      <td>G</td>\n",
       "      <td>NO</td>\n",
       "      <td>S</td>\n",
       "      <td>65</td>\n",
       "      <td>64</td>\n",
       "      <td>Z</td>\n",
       "      <td>-1</td>\n",
       "    </tr>\n",
       "    <tr>\n",
       "      <th>4</th>\n",
       "      <td>Linux</td>\n",
       "      <td>Linux</td>\n",
       "      <td>2.6.X</td>\n",
       "      <td>specialized</td>\n",
       "      <td>5</td>\n",
       "      <td>192003</td>\n",
       "      <td>158</td>\n",
       "      <td>I</td>\n",
       "      <td>-1</td>\n",
       "      <td>I</td>\n",
       "      <td>...</td>\n",
       "      <td>G</td>\n",
       "      <td>G</td>\n",
       "      <td>-1</td>\n",
       "      <td>G</td>\n",
       "      <td>NO</td>\n",
       "      <td>S</td>\n",
       "      <td>61</td>\n",
       "      <td>64</td>\n",
       "      <td>Z</td>\n",
       "      <td>-1</td>\n",
       "    </tr>\n",
       "  </tbody>\n",
       "</table>\n",
       "<p>5 rows × 263 columns</p>\n",
       "</div>"
      ],
      "text/plain": [
       "  Class.vendor_0 Class.OSfamily_0 Class.OSgen_0 Class.device_0  SEQ.SP_0  \\\n",
       "0          Linux            Linux           NaN            WAP       255   \n",
       "1          Linux            Linux         2.4.X    specialized       207   \n",
       "2          Linux            Linux         2.6.X    specialized         0   \n",
       "3          Linux            Linux         2.6.X    specialized         1   \n",
       "4          Linux            Linux         2.6.X    specialized         5   \n",
       "\n",
       "   SEQ.GCD_0  SEQ.ISR_0 SEQ.TI_0  SEQ.TI_1 SEQ.CI_0  ...  U1.RIPCK_0  \\\n",
       "0          3        261        I        -1       NO  ...          NO   \n",
       "1          5        207        Z        -1        Z  ...           G   \n",
       "2      64001        155        I        -1        I  ...           G   \n",
       "3     128002        151        I        -1        I  ...           G   \n",
       "4     192003        158        I        -1        I  ...           G   \n",
       "\n",
       "  U1.RUCK_0  U1.RUCK_1 U1.RUD_0 IE.R_0  IE.DFI_0 IE.T_0 IE.TG_0 IE.CD_0  \\\n",
       "0        NO         -1       NO     NO         N    128     128       S   \n",
       "1         G         -1        G     NO         N     63      64       S   \n",
       "2         G         -1        G     NO         S     67      64       Z   \n",
       "3         G         -1        G     NO         S     65      64       Z   \n",
       "4         G         -1        G     NO         S     61      64       Z   \n",
       "\n",
       "  IE.CD_1  \n",
       "0      -1  \n",
       "1      -1  \n",
       "2      -1  \n",
       "3      -1  \n",
       "4      -1  \n",
       "\n",
       "[5 rows x 263 columns]"
      ]
     },
     "execution_count": 9,
     "metadata": {},
     "output_type": "execute_result"
    }
   ],
   "source": [
    "df.head()"
   ]
  },
  {
   "cell_type": "code",
   "execution_count": 10,
   "id": "ac726051",
   "metadata": {},
   "outputs": [
    {
     "data": {
      "text/plain": [
       "Class.vendor_0\n",
       "Linux        1510\n",
       "Microsoft    1314\n",
       "Apple         473\n",
       "FreeBSD       421\n",
       "Cisco         224\n",
       "OpenBSD       180\n",
       "Google        121\n",
       "Sun           108\n",
       "NetBSD         28\n",
       "Oracle         18\n",
       "Name: count, dtype: int64"
      ]
     },
     "execution_count": 10,
     "metadata": {},
     "output_type": "execute_result"
    }
   ],
   "source": [
    "df[\"Class.vendor_0\"].value_counts()"
   ]
  },
  {
   "cell_type": "code",
   "execution_count": 11,
   "id": "75c51b22",
   "metadata": {},
   "outputs": [
    {
     "data": {
      "text/plain": [
       "Class.OSfamily_0\n",
       "Linux      1510\n",
       "Windows    1314\n",
       "BSD         629\n",
       "iOS         452\n",
       "macOS       245\n",
       "Solaris     126\n",
       "Android     121\n",
       "Name: count, dtype: int64"
      ]
     },
     "execution_count": 11,
     "metadata": {},
     "output_type": "execute_result"
    }
   ],
   "source": [
    "df[\"Class.OSfamily_0\"].value_counts()"
   ]
  },
  {
   "cell_type": "code",
   "execution_count": 12,
   "id": "78b46383",
   "metadata": {},
   "outputs": [
    {
     "data": {
      "text/plain": [
       "Class.OSgen_0\n",
       "2.6.X               906\n",
       "3.X                 403\n",
       "XP                  374\n",
       "4.X                 277\n",
       "2003                220\n",
       "12.X                206\n",
       "2.4.X               144\n",
       "5.X                 144\n",
       "7                   143\n",
       "6.X                 119\n",
       "2008                112\n",
       "9.X                 104\n",
       "2000                103\n",
       "10                  101\n",
       "7.X                  96\n",
       "8.X                  89\n",
       "98                   85\n",
       "NT                   57\n",
       "2012                 56\n",
       "11.X                 54\n",
       "10.7.X               49\n",
       "2.X                  44\n",
       "Vista                35\n",
       "8                    33\n",
       "10.4.X               31\n",
       "1.X                  31\n",
       "10.X                 30\n",
       "10.6.X               28\n",
       "10.5.X               26\n",
       "15.X                 25\n",
       "11                   23\n",
       "8.1                  20\n",
       "10.11.X              15\n",
       "10.9.X               15\n",
       "10.10.X              15\n",
       "95                   12\n",
       "10.8.X               12\n",
       "9                    11\n",
       "4.1.X                11\n",
       "10.3.X               11\n",
       "Me                    9\n",
       "10.15.X               8\n",
       "13.X                  8\n",
       "10.12.X               8\n",
       "10.13.X               7\n",
       "2016                  7\n",
       "10.14.X               7\n",
       "2.0.X                 6\n",
       "4.2.X                 6\n",
       "2.2.X                 5\n",
       "2.1.X                 3\n",
       "4.0.X                 3\n",
       "4.4.X                 3\n",
       "4.3.X                 2\n",
       "EmbeddedCompact7      1\n",
       "10.1.X                1\n",
       "10.2.X                1\n",
       "Name: count, dtype: int64"
      ]
     },
     "execution_count": 12,
     "metadata": {},
     "output_type": "execute_result"
    }
   ],
   "source": [
    "df[\"Class.OSgen_0\"].value_counts()"
   ]
  },
  {
   "cell_type": "code",
   "execution_count": 13,
   "metadata": {},
   "outputs": [
    {
     "name": "stdout",
     "output_type": "stream",
     "text": [
      "   Class.OSfamily_0 Class.OSgen_0  Count\n",
      "0           Android           1.X     10\n",
      "1           Android           2.X     15\n",
      "2           Android           3.X      1\n",
      "3           Android         4.0.X      3\n",
      "4           Android         4.1.X     11\n",
      "..              ...           ...    ...\n",
      "83            macOS        10.7.X     49\n",
      "84            macOS        10.8.X     12\n",
      "85            macOS        10.9.X     15\n",
      "86            macOS           8.X     10\n",
      "87            macOS           9.X      1\n",
      "\n",
      "[88 rows x 3 columns]\n"
     ]
    }
   ],
   "source": [
    "pair_counts = df.groupby(['Class.OSfamily_0', 'Class.OSgen_0']).size().reset_index(name='Count')\n",
    "print(pair_counts)"
   ]
  },
  {
   "cell_type": "code",
   "execution_count": 14,
   "id": "cb099dbb",
   "metadata": {},
   "outputs": [
    {
     "data": {
      "text/plain": [
       "Class.device_0\n",
       "generalpurpose      3326\n",
       "phone                308\n",
       "mediadevice          137\n",
       "WAP                  133\n",
       "switch               113\n",
       "storage-misc         107\n",
       "router               102\n",
       "broadbandrouter       46\n",
       "firewall              41\n",
       "specialized           30\n",
       "webcam                20\n",
       "PBX                    7\n",
       "terminal               7\n",
       "remotemanagement       5\n",
       "VoIPphone              4\n",
       "terminalserver         2\n",
       "loadbalancer           2\n",
       "proxyserver            2\n",
       "security-misc          2\n",
       "PDA                    1\n",
       "telecom-misc           1\n",
       "printer                1\n",
       "Name: count, dtype: int64"
      ]
     },
     "execution_count": 14,
     "metadata": {},
     "output_type": "execute_result"
    }
   ],
   "source": [
    "df[\"Class.device_0\"].value_counts()"
   ]
  },
  {
   "cell_type": "code",
   "execution_count": 15,
   "id": "a69eb966",
   "metadata": {},
   "outputs": [
    {
     "name": "stdout",
     "output_type": "stream",
     "text": [
      "    Class.OSfamily_0 Class.OSgen_0  Class.device_0  Count\n",
      "0            Android           1.X           phone     10\n",
      "1            Android           2.X           phone     15\n",
      "2            Android           3.X           phone      1\n",
      "3            Android         4.0.X           phone      3\n",
      "4            Android         4.1.X       VoIPphone      1\n",
      "..               ...           ...             ...    ...\n",
      "167            macOS        10.7.X     mediadevice      8\n",
      "168            macOS        10.8.X  generalpurpose     12\n",
      "169            macOS        10.9.X  generalpurpose     15\n",
      "170            macOS           8.X  generalpurpose     10\n",
      "171            macOS           9.X  generalpurpose      1\n",
      "\n",
      "[172 rows x 4 columns]\n"
     ]
    }
   ],
   "source": [
    "pair_counts = df.groupby(['Class.OSfamily_0', 'Class.OSgen_0', \"Class.device_0\"]).size().reset_index(name='Count')\n",
    "print(pair_counts)"
   ]
  },
  {
   "cell_type": "code",
   "execution_count": 16,
   "id": "fa75d21b",
   "metadata": {},
   "outputs": [
    {
     "name": "stdout",
     "output_type": "stream",
     "text": [
      "   Class.OSfamily_0    Class.device_0  Count\n",
      "0           Android         VoIPphone      2\n",
      "1           Android       mediadevice     11\n",
      "2           Android             phone    108\n",
      "3               BSD          firewall     10\n",
      "4               BSD    generalpurpose    563\n",
      "5               BSD      storage-misc     56\n",
      "6             Linux               PBX      7\n",
      "7             Linux               PDA      1\n",
      "8             Linux         VoIPphone      2\n",
      "9             Linux               WAP    110\n",
      "10            Linux   broadbandrouter     43\n",
      "11            Linux          firewall     31\n",
      "12            Linux    generalpurpose   1097\n",
      "13            Linux      loadbalancer      2\n",
      "14            Linux       mediadevice     32\n",
      "15            Linux             phone     61\n",
      "16            Linux           printer      1\n",
      "17            Linux       proxyserver      2\n",
      "18            Linux  remotemanagement      5\n",
      "19            Linux            router     14\n",
      "20            Linux     security-misc      1\n",
      "21            Linux       specialized     25\n",
      "22            Linux      storage-misc     42\n",
      "23            Linux            switch      4\n",
      "24            Linux      telecom-misc      1\n",
      "25            Linux          terminal      7\n",
      "26            Linux    terminalserver      2\n",
      "27            Linux            webcam     20\n",
      "28          Solaris    generalpurpose    126\n",
      "29          Windows    generalpurpose   1300\n",
      "30          Windows     security-misc      1\n",
      "31          Windows       specialized      4\n",
      "32          Windows      storage-misc      9\n",
      "33              iOS               WAP     23\n",
      "34              iOS   broadbandrouter      3\n",
      "35              iOS    generalpurpose      3\n",
      "36              iOS       mediadevice     86\n",
      "37              iOS             phone    139\n",
      "38              iOS            router     88\n",
      "39              iOS       specialized      1\n",
      "40              iOS            switch    109\n",
      "41            macOS    generalpurpose    237\n",
      "42            macOS       mediadevice      8\n"
     ]
    }
   ],
   "source": [
    "pair_counts = df.groupby(['Class.OSfamily_0', \"Class.device_0\"]).size().reset_index(name='Count')\n",
    "print(pair_counts)"
   ]
  },
  {
   "cell_type": "code",
   "execution_count": 17,
   "metadata": {
    "scrolled": true
   },
   "outputs": [
    {
     "name": "stdout",
     "output_type": "stream",
     "text": [
      "['Class.OSfamily_0', 'SEQ.SP_0', 'SEQ.GCD_0', 'SEQ.ISR_0', 'SEQ.TI_0', 'SEQ.TI_1', 'SEQ.CI_0', 'SEQ.CI_1', 'SEQ.II_0', 'SEQ.II_1', 'SEQ.SS_0', 'SEQ.TS_0', 'SEQ.TS_1', 'OPS.O1_0', 'OPS.O1_1', 'OPS.O1_2', 'OPS.O1_3', 'OPS.O1_4', 'OPS.O1_5', 'OPS.O1_6', 'OPS.O1_7', 'OPS.O1_8', 'OPS.O2_0', 'OPS.O2_1', 'OPS.O2_2', 'OPS.O2_3', 'OPS.O2_4', 'OPS.O2_5', 'OPS.O2_6', 'OPS.O2_7', 'OPS.O2_8', 'OPS.O3_0', 'OPS.O3_1', 'OPS.O3_2', 'OPS.O3_3', 'OPS.O3_4', 'OPS.O3_5', 'OPS.O3_6', 'OPS.O3_7', 'OPS.O3_8', 'OPS.O3_9', 'OPS.O3_10', 'OPS.O3_11', 'OPS.O4_0', 'OPS.O4_1', 'OPS.O4_2', 'OPS.O4_3', 'OPS.O4_4', 'OPS.O4_5', 'OPS.O4_6', 'OPS.O4_7', 'OPS.O4_8', 'OPS.O5_0', 'OPS.O5_1', 'OPS.O5_2', 'OPS.O5_3', 'OPS.O5_4', 'OPS.O5_5', 'OPS.O5_6', 'OPS.O5_7', 'OPS.O5_8', 'OPS.O6_0', 'OPS.O6_1', 'OPS.O6_2', 'OPS.O6_3', 'OPS.O6_4', 'OPS.O6_5', 'OPS.O6_6', 'WIN.W1_0', 'WIN.W2_0', 'WIN.W3_0', 'WIN.W4_0', 'WIN.W5_0', 'WIN.W6_0', 'ECN.R_0', 'ECN.DF_0', 'ECN.T_0', 'ECN.TG_0', 'ECN.W_0', 'ECN.O_0', 'ECN.O_1', 'ECN.O_2', 'ECN.O_3', 'ECN.O_4', 'ECN.O_5', 'ECN.CC_0', 'ECN.Q_0', 'ECN.Q_1', 'T1.R_0', 'T1.DF_0', 'T1.T_0', 'T1.TG_0', 'T1.S_0', 'T1.A_0', 'T1.F_0', 'T1.F_1', 'T1.F_2', 'T1.F_3', 'T1.F_4', 'T1.F_5', 'T1.F_6', 'T1.RD_0', 'T1.Q_0', 'T1.Q_1', 'T2.R_0', 'T2.DF_0', 'T2.T_0', 'T2.TG_0', 'T2.W_0', 'T2.S_0', 'T2.A_0', 'T2.F_0', 'T2.F_1', 'T2.F_2', 'T2.F_3', 'T2.F_4', 'T2.F_5', 'T2.F_6', 'T2.O_0', 'T2.O_1', 'T2.O_2', 'T2.O_3', 'T2.O_4', 'T2.RD_0', 'T2.Q_0', 'T2.Q_1', 'T3.R_0', 'T3.DF_0', 'T3.T_0', 'T3.TG_0', 'T3.W_0', 'T3.S_0', 'T3.A_0', 'T3.F_0', 'T3.F_1', 'T3.F_2', 'T3.F_3', 'T3.F_4', 'T3.F_5', 'T3.F_6', 'T3.O_0', 'T3.O_1', 'T3.O_2', 'T3.O_3', 'T3.O_4', 'T3.O_5', 'T3.O_6', 'T3.O_7', 'T3.O_8', 'T3.RD_0', 'T3.Q_0', 'T3.Q_1', 'T4.R_0', 'T4.DF_0', 'T4.T_0', 'T4.TG_0', 'T4.W_0', 'T4.S_0', 'T4.A_0', 'T4.F_0', 'T4.F_1', 'T4.F_2', 'T4.F_3', 'T4.F_4', 'T4.F_5', 'T4.F_6', 'T4.O_0', 'T4.O_1', 'T4.O_2', 'T4.O_3', 'T4.O_4', 'T4.RD_0', 'T4.Q_0', 'T4.Q_1', 'T5.R_0', 'T5.DF_0', 'T5.T_0', 'T5.TG_0', 'T5.W_0', 'T5.S_0', 'T5.A_0', 'T5.F_0', 'T5.F_1', 'T5.F_2', 'T5.F_3', 'T5.F_4', 'T5.F_5', 'T5.F_6', 'T5.O_0', 'T5.O_1', 'T5.O_2', 'T5.O_3', 'T5.O_4', 'T5.RD_0', 'T5.Q_0', 'T5.Q_1', 'T6.R_0', 'T6.DF_0', 'T6.T_0', 'T6.TG_0', 'T6.W_0', 'T6.S_0', 'T6.A_0', 'T6.F_0', 'T6.F_1', 'T6.F_2', 'T6.F_3', 'T6.F_4', 'T6.F_5', 'T6.F_6', 'T6.O_0', 'T6.O_1', 'T6.O_2', 'T6.O_3', 'T6.O_4', 'T6.RD_0', 'T6.Q_0', 'T6.Q_1', 'T7.R_0', 'T7.DF_0', 'T7.T_0', 'T7.TG_0', 'T7.W_0', 'T7.S_0', 'T7.A_0', 'T7.F_0', 'T7.F_1', 'T7.F_2', 'T7.F_3', 'T7.F_4', 'T7.F_5', 'T7.F_6', 'T7.O_0', 'T7.O_1', 'T7.O_2', 'T7.O_3', 'T7.O_4', 'T7.RD_0', 'T7.Q_0', 'T7.Q_1', 'U1.R_0', 'U1.DF_0', 'U1.T_0', 'U1.TG_0', 'U1.IPL_0', 'U1.UN_0', 'U1.RIPL_0', 'U1.RIPL_1', 'U1.RID_0', 'U1.RID_1', 'U1.RIPCK_0', 'U1.RUCK_0', 'U1.RUCK_1', 'U1.RUD_0', 'IE.R_0', 'IE.DFI_0', 'IE.T_0', 'IE.TG_0', 'IE.CD_0', 'IE.CD_1']\n"
     ]
    }
   ],
   "source": [
    "df.pop('Class.vendor_0')\n",
    "df.pop('Class.OSgen_0')\n",
    "df.pop('Class.device_0')\n",
    "\n",
    "df.reset_index(drop=True, inplace=True)\n",
    "\n",
    "# header = names of columns\n",
    "print(list(df.columns))"
   ]
  },
  {
   "cell_type": "code",
   "execution_count": 18,
   "metadata": {},
   "outputs": [
    {
     "name": "stdout",
     "output_type": "stream",
     "text": [
      "Nº features= 259\n"
     ]
    }
   ],
   "source": [
    "# no of features (X)\n",
    "print(\"Nº features=\", len(list(df.columns))-1)"
   ]
  },
  {
   "cell_type": "code",
   "execution_count": 19,
   "metadata": {},
   "outputs": [
    {
     "name": "stdout",
     "output_type": "stream",
     "text": [
      "Output= Class.OSfamily_0\n"
     ]
    }
   ],
   "source": [
    "# output name\n",
    "OutVar = list(df.columns)[0]\n",
    "print(\"Output=\", OutVar)"
   ]
  },
  {
   "cell_type": "markdown",
   "metadata": {},
   "source": [
    "### Checking data"
   ]
  },
  {
   "cell_type": "code",
   "execution_count": 20,
   "metadata": {},
   "outputs": [],
   "source": [
    "def DataCheckings(df):\n",
    "    # Check the number of data points in the data set\n",
    "    print(\"\\nData points =\", len(df))\n",
    "    \n",
    "    # Check the number of columns in the data set\n",
    "    print(\"\\nColumns (output + features)=\",len(df.columns))\n",
    "    \n",
    "    # Check the data types\n",
    "    print(\"\\nData types =\", df.dtypes.unique())\n",
    "    \n",
    "    # Dataset statistics\n",
    "    print('\\n')\n",
    "    df.describe()\n",
    "    \n",
    "    # print names of columns\n",
    "    print('Column Names:\\n', df.columns)\n",
    "    \n",
    "    # see if there are categorical data\n",
    "    print(\"\\nCategorical features:\", df.select_dtypes(include=['O']).columns.tolist())\n",
    "    \n",
    "    # Check NA values\n",
    "    # Check any number of columns with NaN\n",
    "    print(\"\\nColumns with NaN: \", df.isnull().any().sum(), ' / ', len(df.columns))\n",
    "\n",
    "    # Check any number of data points with NaN\n",
    "    print(\"\\nNo of data points with NaN:\", df.isnull().any(axis=1).sum(), ' / ', len(df))"
   ]
  },
  {
   "cell_type": "code",
   "execution_count": 21,
   "metadata": {},
   "outputs": [
    {
     "name": "stdout",
     "output_type": "stream",
     "text": [
      "\n",
      "Data points = 4397\n",
      "\n",
      "Columns (output + features)= 260\n",
      "\n",
      "Data types = [dtype('O') dtype('int64')]\n",
      "\n",
      "\n",
      "Column Names:\n",
      " Index(['Class.OSfamily_0', 'SEQ.SP_0', 'SEQ.GCD_0', 'SEQ.ISR_0', 'SEQ.TI_0',\n",
      "       'SEQ.TI_1', 'SEQ.CI_0', 'SEQ.CI_1', 'SEQ.II_0', 'SEQ.II_1',\n",
      "       ...\n",
      "       'U1.RIPCK_0', 'U1.RUCK_0', 'U1.RUCK_1', 'U1.RUD_0', 'IE.R_0',\n",
      "       'IE.DFI_0', 'IE.T_0', 'IE.TG_0', 'IE.CD_0', 'IE.CD_1'],\n",
      "      dtype='object', length=260)\n",
      "\n",
      "Categorical features: ['Class.OSfamily_0', 'SEQ.TI_0', 'SEQ.CI_0', 'SEQ.II_0', 'SEQ.SS_0', 'SEQ.TS_0', 'OPS.O1_0', 'OPS.O1_1', 'OPS.O1_2', 'OPS.O1_3', 'OPS.O1_4', 'OPS.O1_5', 'OPS.O1_6', 'OPS.O1_7', 'OPS.O1_8', 'OPS.O2_0', 'OPS.O2_1', 'OPS.O2_2', 'OPS.O2_3', 'OPS.O2_4', 'OPS.O2_5', 'OPS.O2_6', 'OPS.O2_7', 'OPS.O2_8', 'OPS.O3_0', 'OPS.O3_1', 'OPS.O3_2', 'OPS.O3_3', 'OPS.O3_4', 'OPS.O3_5', 'OPS.O3_6', 'OPS.O3_7', 'OPS.O3_8', 'OPS.O3_9', 'OPS.O3_10', 'OPS.O3_11', 'OPS.O4_0', 'OPS.O4_1', 'OPS.O4_2', 'OPS.O4_3', 'OPS.O4_4', 'OPS.O4_5', 'OPS.O4_6', 'OPS.O4_7', 'OPS.O4_8', 'OPS.O5_0', 'OPS.O5_1', 'OPS.O5_2', 'OPS.O5_3', 'OPS.O5_4', 'OPS.O5_5', 'OPS.O5_6', 'OPS.O5_7', 'OPS.O5_8', 'OPS.O6_0', 'OPS.O6_1', 'OPS.O6_2', 'OPS.O6_3', 'OPS.O6_4', 'OPS.O6_5', 'OPS.O6_6', 'ECN.R_0', 'ECN.DF_0', 'ECN.O_0', 'ECN.O_1', 'ECN.O_2', 'ECN.O_3', 'ECN.O_4', 'ECN.O_5', 'ECN.CC_0', 'ECN.Q_0', 'ECN.Q_1', 'T1.R_0', 'T1.DF_0', 'T1.S_0', 'T1.A_0', 'T1.F_0', 'T1.F_1', 'T1.F_2', 'T1.F_3', 'T1.F_4', 'T1.F_5', 'T1.F_6', 'T1.Q_0', 'T1.Q_1', 'T2.R_0', 'T2.DF_0', 'T2.S_0', 'T2.A_0', 'T2.F_0', 'T2.F_1', 'T2.F_2', 'T2.F_3', 'T2.F_4', 'T2.F_5', 'T2.F_6', 'T2.O_0', 'T2.O_1', 'T2.O_2', 'T2.O_3', 'T2.O_4', 'T2.Q_0', 'T2.Q_1', 'T3.R_0', 'T3.DF_0', 'T3.S_0', 'T3.A_0', 'T3.F_0', 'T3.F_1', 'T3.F_2', 'T3.F_3', 'T3.F_4', 'T3.F_5', 'T3.F_6', 'T3.O_0', 'T3.O_1', 'T3.O_2', 'T3.O_3', 'T3.O_4', 'T3.O_5', 'T3.O_6', 'T3.O_7', 'T3.O_8', 'T3.Q_0', 'T3.Q_1', 'T4.R_0', 'T4.DF_0', 'T4.S_0', 'T4.A_0', 'T4.F_0', 'T4.F_1', 'T4.F_2', 'T4.F_3', 'T4.F_4', 'T4.F_5', 'T4.F_6', 'T4.O_0', 'T4.O_1', 'T4.O_2', 'T4.O_3', 'T4.O_4', 'T4.Q_0', 'T4.Q_1', 'T5.R_0', 'T5.DF_0', 'T5.S_0', 'T5.A_0', 'T5.F_0', 'T5.F_1', 'T5.F_2', 'T5.F_3', 'T5.F_4', 'T5.F_5', 'T5.F_6', 'T5.O_0', 'T5.O_1', 'T5.O_2', 'T5.O_3', 'T5.O_4', 'T5.Q_0', 'T5.Q_1', 'T6.R_0', 'T6.DF_0', 'T6.S_0', 'T6.A_0', 'T6.F_0', 'T6.F_1', 'T6.F_2', 'T6.F_3', 'T6.F_4', 'T6.F_5', 'T6.F_6', 'T6.O_0', 'T6.O_1', 'T6.O_2', 'T6.O_3', 'T6.O_4', 'T6.Q_0', 'T6.Q_1', 'T7.R_0', 'T7.DF_0', 'T7.S_0', 'T7.A_0', 'T7.F_0', 'T7.F_1', 'T7.F_2', 'T7.F_3', 'T7.F_4', 'T7.F_5', 'T7.F_6', 'T7.O_0', 'T7.O_1', 'T7.O_2', 'T7.O_3', 'T7.O_4', 'T7.Q_0', 'T7.Q_1', 'U1.R_0', 'U1.DF_0', 'U1.RIPL_0', 'U1.RID_0', 'U1.RIPCK_0', 'U1.RUCK_0', 'U1.RUD_0', 'IE.R_0', 'IE.DFI_0', 'IE.CD_0']\n",
      "\n",
      "Columns with NaN:  0  /  260\n",
      "\n",
      "No of data points with NaN: 0  /  4397\n"
     ]
    }
   ],
   "source": [
    "DataCheckings(df)"
   ]
  },
  {
   "cell_type": "code",
   "execution_count": 22,
   "metadata": {},
   "outputs": [
    {
     "name": "stdout",
     "output_type": "stream",
     "text": [
      "Shape before removing duplicates= (4397, 260)\n"
     ]
    }
   ],
   "source": [
    "print('Shape before removing duplicates=', df.shape)"
   ]
  },
  {
   "cell_type": "code",
   "execution_count": 23,
   "metadata": {},
   "outputs": [],
   "source": [
    "# remove duplicates!\n",
    "df.drop_duplicates(keep=False, inplace=True)"
   ]
  },
  {
   "cell_type": "code",
   "execution_count": 24,
   "metadata": {},
   "outputs": [
    {
     "name": "stdout",
     "output_type": "stream",
     "text": [
      "Shape after removing duplicates= (4397, 260)\n"
     ]
    }
   ],
   "source": [
    "print('Shape after removing duplicates=', df.shape)"
   ]
  },
  {
   "cell_type": "markdown",
   "metadata": {},
   "source": [
    "### Remove near zero variance features"
   ]
  },
  {
   "cell_type": "code",
   "execution_count": 25,
   "metadata": {},
   "outputs": [],
   "source": [
    "# from sklearn.utils import class_weight\n",
    "# from sklearn.feature_selection import VarianceThreshold"
   ]
  },
  {
   "cell_type": "code",
   "execution_count": 26,
   "metadata": {},
   "outputs": [],
   "source": [
    "# def getDataFromDataFrame(df, OutVar):\n",
    "#     # get X, Y data and column names from df\n",
    "#     print('\\n-> Get X & Y data, Features list')\n",
    "#     print('Shape', df.shape)\n",
    "    \n",
    "#     # select X and Y\n",
    "#     ds_y = df[OutVar]\n",
    "#     ds_X = df.drop(OutVar,axis = 1)\n",
    "#     Xdata = ds_X.values # get values of features\n",
    "#     Ydata = ds_y.values # get output values\n",
    "\n",
    "#     print('Shape X data:', Xdata.shape)\n",
    "#     print('Shape Y data:', Ydata.shape)\n",
    "    \n",
    "#     # return data for X and Y, feature names as list\n",
    "#     print('Done!')\n",
    "#     return (Xdata, Ydata, list(ds_X.columns))\n",
    "\n",
    "# def Remove0VarCols(df, OutVar):\n",
    "#     Xdata, Ydata, Features = getDataFromDataFrame(df,OutVar=OutVar)# out var = Class \n",
    "#     print('\\n-> Remove zero variance features')\n",
    "#     # print('Initial features:', Features)\n",
    "#     selector= VarianceThreshold()\n",
    "#     Xdata = selector.fit_transform(Xdata)\n",
    "#     # Selected features\n",
    "#     SelFeatures = []\n",
    "#     for i in selector.get_support(indices=True):\n",
    "#         SelFeatures.append(Features[i])\n",
    "#     print('Removed features:',list(set(Features) - set(SelFeatures)))\n",
    "    \n",
    "#     # create the resulted dataframe\n",
    "#     df = pd.DataFrame(Xdata,columns=SelFeatures)\n",
    "#     df[OutVar] = Ydata # add class column\n",
    "#     # print('Final columns:', list(df.columns))\n",
    "#     print('Done!')\n",
    "#     return df"
   ]
  },
  {
   "cell_type": "code",
   "execution_count": 27,
   "metadata": {},
   "outputs": [],
   "source": [
    "# df = Remove0VarCols(df, OutVar)"
   ]
  },
  {
   "cell_type": "code",
   "execution_count": 28,
   "metadata": {},
   "outputs": [],
   "source": [
    "# # print dimension AFTER removing features\n",
    "# print(\"Dataset dimension AFTER removing near zero variance features=\",df.shape)"
   ]
  },
  {
   "cell_type": "code",
   "execution_count": 29,
   "metadata": {},
   "outputs": [],
   "source": [
    "# df.columns"
   ]
  },
  {
   "cell_type": "markdown",
   "metadata": {},
   "source": [
    "### Verify the classes ballance"
   ]
  },
  {
   "cell_type": "code",
   "execution_count": 30,
   "metadata": {},
   "outputs": [
    {
     "data": {
      "text/plain": [
       "Class.OSfamily_0\n",
       "Linux      1510\n",
       "Windows    1314\n",
       "BSD         629\n",
       "iOS         452\n",
       "macOS       245\n",
       "Solaris     126\n",
       "Android     121\n",
       "Name: count, dtype: int64"
      ]
     },
     "execution_count": 30,
     "metadata": {},
     "output_type": "execute_result"
    }
   ],
   "source": [
    "df[OutVar].value_counts()"
   ]
  },
  {
   "cell_type": "code",
   "execution_count": 31,
   "id": "c7943f77",
   "metadata": {},
   "outputs": [],
   "source": [
    "df.replace(['BSD', 'iOS', 'macOS', 'Solaris', 'Android'], 'Other', inplace=True)\n",
    "df.reset_index(drop=True, inplace=True)"
   ]
  },
  {
   "cell_type": "code",
   "execution_count": 32,
   "id": "04720b6d",
   "metadata": {},
   "outputs": [
    {
     "data": {
      "text/plain": [
       "Class.OSfamily_0\n",
       "Other      1573\n",
       "Linux      1510\n",
       "Windows    1314\n",
       "Name: count, dtype: int64"
      ]
     },
     "execution_count": 32,
     "metadata": {},
     "output_type": "execute_result"
    }
   ],
   "source": [
    "df[OutVar].value_counts()"
   ]
  },
  {
   "cell_type": "markdown",
   "id": "07d37288",
   "metadata": {},
   "source": [
    "### TabTransformers"
   ]
  },
  {
   "cell_type": "markdown",
   "id": "2ec14670",
   "metadata": {},
   "source": [
    "#### Libraries Import"
   ]
  },
  {
   "cell_type": "code",
   "execution_count": 33,
   "id": "d8d75027",
   "metadata": {},
   "outputs": [
    {
     "name": "stderr",
     "output_type": "stream",
     "text": [
      "c:\\Users\\ruben\\Git-Repositories\\os-fingerprinting-tabtransformers-nmap\\.venv\\Lib\\site-packages\\tqdm\\auto.py:21: TqdmWarning: IProgress not found. Please update jupyter and ipywidgets. See https://ipywidgets.readthedocs.io/en/stable/user_install.html\n",
      "  from .autonotebook import tqdm as notebook_tqdm\n"
     ]
    }
   ],
   "source": [
    "import tensorflow as tf\n",
    "from keras.optimizers import AdamW\n",
    "from keras.callbacks import EarlyStopping, ModelCheckpoint\n",
    "\n",
    "import matplotlib.pyplot as plt\n",
    "import seaborn as sns\n",
    "import optuna\n",
    "import gc\n",
    "\n",
    "from sklearn.model_selection import train_test_split\n",
    "from sklearn.metrics import average_precision_score, roc_auc_score\n",
    "\n",
    "from sklearn.pipeline import Pipeline\n",
    "from sklearn.impute import SimpleImputer\n",
    "from sklearn.preprocessing import StandardScaler, KBinsDiscretizer\n",
    "\n",
    "%matplotlib inline"
   ]
  },
  {
   "cell_type": "code",
   "execution_count": 34,
   "id": "80c2ead0",
   "metadata": {},
   "outputs": [],
   "source": [
    "import absl.logging\n",
    "import warnings\n",
    "import logging\n",
    "\n",
    "from tabtransformertf.models.tabtransformer import TabTransformer\n",
    "from tabtransformertf.utils.preprocessing import df_to_dataset, build_categorical_prep\n",
    "\n",
    "logging.captureWarnings(True)\n",
    "warnings.filterwarnings('ignore')\n",
    "absl.logging.set_verbosity(absl.logging.ERROR)"
   ]
  },
  {
   "cell_type": "markdown",
   "id": "491c8057",
   "metadata": {},
   "source": [
    "#### Preprocessing"
   ]
  },
  {
   "cell_type": "code",
   "execution_count": 35,
   "id": "2c7304df",
   "metadata": {},
   "outputs": [],
   "source": [
    "train_data, test_data = train_test_split(df, stratify=df[OutVar], test_size=0.20, random_state=seed)"
   ]
  },
  {
   "cell_type": "code",
   "execution_count": 36,
   "id": "846f8772",
   "metadata": {},
   "outputs": [
    {
     "data": {
      "text/plain": [
       "((3517, 260), (880, 260))"
      ]
     },
     "execution_count": 36,
     "metadata": {},
     "output_type": "execute_result"
    }
   ],
   "source": [
    "train_data.shape, test_data.shape"
   ]
  },
  {
   "cell_type": "code",
   "execution_count": 37,
   "id": "ba750d93",
   "metadata": {},
   "outputs": [],
   "source": [
    "LABEL = OutVar\n",
    "\n",
    "NUMERIC_FEATURES = df.select_dtypes(include=['int64']).columns.tolist()\n",
    "CATEGORICAL_FEATURES = df.select_dtypes(include=['object']).columns.tolist()\n",
    "CATEGORICAL_FEATURES.remove(LABEL)\n",
    "\n",
    "FEATURES = list(NUMERIC_FEATURES) + list(CATEGORICAL_FEATURES)"
   ]
  },
  {
   "cell_type": "code",
   "execution_count": 38,
   "id": "79f5797a",
   "metadata": {},
   "outputs": [
    {
     "name": "stdout",
     "output_type": "stream",
     "text": [
      "53 206 259\n"
     ]
    }
   ],
   "source": [
    "print(len(NUMERIC_FEATURES), len(CATEGORICAL_FEATURES), len(FEATURES))"
   ]
  },
  {
   "cell_type": "markdown",
   "id": "3a571c1c",
   "metadata": {},
   "source": [
    "#### Numeric Cleaning"
   ]
  },
  {
   "cell_type": "code",
   "execution_count": 39,
   "id": "cbacc1d2",
   "metadata": {},
   "outputs": [
    {
     "data": {
      "text/html": [
       "<style>#sk-container-id-1 {\n",
       "  /* Definition of color scheme common for light and dark mode */\n",
       "  --sklearn-color-text: black;\n",
       "  --sklearn-color-line: gray;\n",
       "  /* Definition of color scheme for unfitted estimators */\n",
       "  --sklearn-color-unfitted-level-0: #fff5e6;\n",
       "  --sklearn-color-unfitted-level-1: #f6e4d2;\n",
       "  --sklearn-color-unfitted-level-2: #ffe0b3;\n",
       "  --sklearn-color-unfitted-level-3: chocolate;\n",
       "  /* Definition of color scheme for fitted estimators */\n",
       "  --sklearn-color-fitted-level-0: #f0f8ff;\n",
       "  --sklearn-color-fitted-level-1: #d4ebff;\n",
       "  --sklearn-color-fitted-level-2: #b3dbfd;\n",
       "  --sklearn-color-fitted-level-3: cornflowerblue;\n",
       "\n",
       "  /* Specific color for light theme */\n",
       "  --sklearn-color-text-on-default-background: var(--sg-text-color, var(--theme-code-foreground, var(--jp-content-font-color1, black)));\n",
       "  --sklearn-color-background: var(--sg-background-color, var(--theme-background, var(--jp-layout-color0, white)));\n",
       "  --sklearn-color-border-box: var(--sg-text-color, var(--theme-code-foreground, var(--jp-content-font-color1, black)));\n",
       "  --sklearn-color-icon: #696969;\n",
       "\n",
       "  @media (prefers-color-scheme: dark) {\n",
       "    /* Redefinition of color scheme for dark theme */\n",
       "    --sklearn-color-text-on-default-background: var(--sg-text-color, var(--theme-code-foreground, var(--jp-content-font-color1, white)));\n",
       "    --sklearn-color-background: var(--sg-background-color, var(--theme-background, var(--jp-layout-color0, #111)));\n",
       "    --sklearn-color-border-box: var(--sg-text-color, var(--theme-code-foreground, var(--jp-content-font-color1, white)));\n",
       "    --sklearn-color-icon: #878787;\n",
       "  }\n",
       "}\n",
       "\n",
       "#sk-container-id-1 {\n",
       "  color: var(--sklearn-color-text);\n",
       "}\n",
       "\n",
       "#sk-container-id-1 pre {\n",
       "  padding: 0;\n",
       "}\n",
       "\n",
       "#sk-container-id-1 input.sk-hidden--visually {\n",
       "  border: 0;\n",
       "  clip: rect(1px 1px 1px 1px);\n",
       "  clip: rect(1px, 1px, 1px, 1px);\n",
       "  height: 1px;\n",
       "  margin: -1px;\n",
       "  overflow: hidden;\n",
       "  padding: 0;\n",
       "  position: absolute;\n",
       "  width: 1px;\n",
       "}\n",
       "\n",
       "#sk-container-id-1 div.sk-dashed-wrapped {\n",
       "  border: 1px dashed var(--sklearn-color-line);\n",
       "  margin: 0 0.4em 0.5em 0.4em;\n",
       "  box-sizing: border-box;\n",
       "  padding-bottom: 0.4em;\n",
       "  background-color: var(--sklearn-color-background);\n",
       "}\n",
       "\n",
       "#sk-container-id-1 div.sk-container {\n",
       "  /* jupyter's `normalize.less` sets `[hidden] { display: none; }`\n",
       "     but bootstrap.min.css set `[hidden] { display: none !important; }`\n",
       "     so we also need the `!important` here to be able to override the\n",
       "     default hidden behavior on the sphinx rendered scikit-learn.org.\n",
       "     See: https://github.com/scikit-learn/scikit-learn/issues/21755 */\n",
       "  display: inline-block !important;\n",
       "  position: relative;\n",
       "}\n",
       "\n",
       "#sk-container-id-1 div.sk-text-repr-fallback {\n",
       "  display: none;\n",
       "}\n",
       "\n",
       "div.sk-parallel-item,\n",
       "div.sk-serial,\n",
       "div.sk-item {\n",
       "  /* draw centered vertical line to link estimators */\n",
       "  background-image: linear-gradient(var(--sklearn-color-text-on-default-background), var(--sklearn-color-text-on-default-background));\n",
       "  background-size: 2px 100%;\n",
       "  background-repeat: no-repeat;\n",
       "  background-position: center center;\n",
       "}\n",
       "\n",
       "/* Parallel-specific style estimator block */\n",
       "\n",
       "#sk-container-id-1 div.sk-parallel-item::after {\n",
       "  content: \"\";\n",
       "  width: 100%;\n",
       "  border-bottom: 2px solid var(--sklearn-color-text-on-default-background);\n",
       "  flex-grow: 1;\n",
       "}\n",
       "\n",
       "#sk-container-id-1 div.sk-parallel {\n",
       "  display: flex;\n",
       "  align-items: stretch;\n",
       "  justify-content: center;\n",
       "  background-color: var(--sklearn-color-background);\n",
       "  position: relative;\n",
       "}\n",
       "\n",
       "#sk-container-id-1 div.sk-parallel-item {\n",
       "  display: flex;\n",
       "  flex-direction: column;\n",
       "}\n",
       "\n",
       "#sk-container-id-1 div.sk-parallel-item:first-child::after {\n",
       "  align-self: flex-end;\n",
       "  width: 50%;\n",
       "}\n",
       "\n",
       "#sk-container-id-1 div.sk-parallel-item:last-child::after {\n",
       "  align-self: flex-start;\n",
       "  width: 50%;\n",
       "}\n",
       "\n",
       "#sk-container-id-1 div.sk-parallel-item:only-child::after {\n",
       "  width: 0;\n",
       "}\n",
       "\n",
       "/* Serial-specific style estimator block */\n",
       "\n",
       "#sk-container-id-1 div.sk-serial {\n",
       "  display: flex;\n",
       "  flex-direction: column;\n",
       "  align-items: center;\n",
       "  background-color: var(--sklearn-color-background);\n",
       "  padding-right: 1em;\n",
       "  padding-left: 1em;\n",
       "}\n",
       "\n",
       "\n",
       "/* Toggleable style: style used for estimator/Pipeline/ColumnTransformer box that is\n",
       "clickable and can be expanded/collapsed.\n",
       "- Pipeline and ColumnTransformer use this feature and define the default style\n",
       "- Estimators will overwrite some part of the style using the `sk-estimator` class\n",
       "*/\n",
       "\n",
       "/* Pipeline and ColumnTransformer style (default) */\n",
       "\n",
       "#sk-container-id-1 div.sk-toggleable {\n",
       "  /* Default theme specific background. It is overwritten whether we have a\n",
       "  specific estimator or a Pipeline/ColumnTransformer */\n",
       "  background-color: var(--sklearn-color-background);\n",
       "}\n",
       "\n",
       "/* Toggleable label */\n",
       "#sk-container-id-1 label.sk-toggleable__label {\n",
       "  cursor: pointer;\n",
       "  display: block;\n",
       "  width: 100%;\n",
       "  margin-bottom: 0;\n",
       "  padding: 0.5em;\n",
       "  box-sizing: border-box;\n",
       "  text-align: center;\n",
       "}\n",
       "\n",
       "#sk-container-id-1 label.sk-toggleable__label-arrow:before {\n",
       "  /* Arrow on the left of the label */\n",
       "  content: \"▸\";\n",
       "  float: left;\n",
       "  margin-right: 0.25em;\n",
       "  color: var(--sklearn-color-icon);\n",
       "}\n",
       "\n",
       "#sk-container-id-1 label.sk-toggleable__label-arrow:hover:before {\n",
       "  color: var(--sklearn-color-text);\n",
       "}\n",
       "\n",
       "/* Toggleable content - dropdown */\n",
       "\n",
       "#sk-container-id-1 div.sk-toggleable__content {\n",
       "  max-height: 0;\n",
       "  max-width: 0;\n",
       "  overflow: hidden;\n",
       "  text-align: left;\n",
       "  /* unfitted */\n",
       "  background-color: var(--sklearn-color-unfitted-level-0);\n",
       "}\n",
       "\n",
       "#sk-container-id-1 div.sk-toggleable__content.fitted {\n",
       "  /* fitted */\n",
       "  background-color: var(--sklearn-color-fitted-level-0);\n",
       "}\n",
       "\n",
       "#sk-container-id-1 div.sk-toggleable__content pre {\n",
       "  margin: 0.2em;\n",
       "  border-radius: 0.25em;\n",
       "  color: var(--sklearn-color-text);\n",
       "  /* unfitted */\n",
       "  background-color: var(--sklearn-color-unfitted-level-0);\n",
       "}\n",
       "\n",
       "#sk-container-id-1 div.sk-toggleable__content.fitted pre {\n",
       "  /* unfitted */\n",
       "  background-color: var(--sklearn-color-fitted-level-0);\n",
       "}\n",
       "\n",
       "#sk-container-id-1 input.sk-toggleable__control:checked~div.sk-toggleable__content {\n",
       "  /* Expand drop-down */\n",
       "  max-height: 200px;\n",
       "  max-width: 100%;\n",
       "  overflow: auto;\n",
       "}\n",
       "\n",
       "#sk-container-id-1 input.sk-toggleable__control:checked~label.sk-toggleable__label-arrow:before {\n",
       "  content: \"▾\";\n",
       "}\n",
       "\n",
       "/* Pipeline/ColumnTransformer-specific style */\n",
       "\n",
       "#sk-container-id-1 div.sk-label input.sk-toggleable__control:checked~label.sk-toggleable__label {\n",
       "  color: var(--sklearn-color-text);\n",
       "  background-color: var(--sklearn-color-unfitted-level-2);\n",
       "}\n",
       "\n",
       "#sk-container-id-1 div.sk-label.fitted input.sk-toggleable__control:checked~label.sk-toggleable__label {\n",
       "  background-color: var(--sklearn-color-fitted-level-2);\n",
       "}\n",
       "\n",
       "/* Estimator-specific style */\n",
       "\n",
       "/* Colorize estimator box */\n",
       "#sk-container-id-1 div.sk-estimator input.sk-toggleable__control:checked~label.sk-toggleable__label {\n",
       "  /* unfitted */\n",
       "  background-color: var(--sklearn-color-unfitted-level-2);\n",
       "}\n",
       "\n",
       "#sk-container-id-1 div.sk-estimator.fitted input.sk-toggleable__control:checked~label.sk-toggleable__label {\n",
       "  /* fitted */\n",
       "  background-color: var(--sklearn-color-fitted-level-2);\n",
       "}\n",
       "\n",
       "#sk-container-id-1 div.sk-label label.sk-toggleable__label,\n",
       "#sk-container-id-1 div.sk-label label {\n",
       "  /* The background is the default theme color */\n",
       "  color: var(--sklearn-color-text-on-default-background);\n",
       "}\n",
       "\n",
       "/* On hover, darken the color of the background */\n",
       "#sk-container-id-1 div.sk-label:hover label.sk-toggleable__label {\n",
       "  color: var(--sklearn-color-text);\n",
       "  background-color: var(--sklearn-color-unfitted-level-2);\n",
       "}\n",
       "\n",
       "/* Label box, darken color on hover, fitted */\n",
       "#sk-container-id-1 div.sk-label.fitted:hover label.sk-toggleable__label.fitted {\n",
       "  color: var(--sklearn-color-text);\n",
       "  background-color: var(--sklearn-color-fitted-level-2);\n",
       "}\n",
       "\n",
       "/* Estimator label */\n",
       "\n",
       "#sk-container-id-1 div.sk-label label {\n",
       "  font-family: monospace;\n",
       "  font-weight: bold;\n",
       "  display: inline-block;\n",
       "  line-height: 1.2em;\n",
       "}\n",
       "\n",
       "#sk-container-id-1 div.sk-label-container {\n",
       "  text-align: center;\n",
       "}\n",
       "\n",
       "/* Estimator-specific */\n",
       "#sk-container-id-1 div.sk-estimator {\n",
       "  font-family: monospace;\n",
       "  border: 1px dotted var(--sklearn-color-border-box);\n",
       "  border-radius: 0.25em;\n",
       "  box-sizing: border-box;\n",
       "  margin-bottom: 0.5em;\n",
       "  /* unfitted */\n",
       "  background-color: var(--sklearn-color-unfitted-level-0);\n",
       "}\n",
       "\n",
       "#sk-container-id-1 div.sk-estimator.fitted {\n",
       "  /* fitted */\n",
       "  background-color: var(--sklearn-color-fitted-level-0);\n",
       "}\n",
       "\n",
       "/* on hover */\n",
       "#sk-container-id-1 div.sk-estimator:hover {\n",
       "  /* unfitted */\n",
       "  background-color: var(--sklearn-color-unfitted-level-2);\n",
       "}\n",
       "\n",
       "#sk-container-id-1 div.sk-estimator.fitted:hover {\n",
       "  /* fitted */\n",
       "  background-color: var(--sklearn-color-fitted-level-2);\n",
       "}\n",
       "\n",
       "/* Specification for estimator info (e.g. \"i\" and \"?\") */\n",
       "\n",
       "/* Common style for \"i\" and \"?\" */\n",
       "\n",
       ".sk-estimator-doc-link,\n",
       "a:link.sk-estimator-doc-link,\n",
       "a:visited.sk-estimator-doc-link {\n",
       "  float: right;\n",
       "  font-size: smaller;\n",
       "  line-height: 1em;\n",
       "  font-family: monospace;\n",
       "  background-color: var(--sklearn-color-background);\n",
       "  border-radius: 1em;\n",
       "  height: 1em;\n",
       "  width: 1em;\n",
       "  text-decoration: none !important;\n",
       "  margin-left: 1ex;\n",
       "  /* unfitted */\n",
       "  border: var(--sklearn-color-unfitted-level-1) 1pt solid;\n",
       "  color: var(--sklearn-color-unfitted-level-1);\n",
       "}\n",
       "\n",
       ".sk-estimator-doc-link.fitted,\n",
       "a:link.sk-estimator-doc-link.fitted,\n",
       "a:visited.sk-estimator-doc-link.fitted {\n",
       "  /* fitted */\n",
       "  border: var(--sklearn-color-fitted-level-1) 1pt solid;\n",
       "  color: var(--sklearn-color-fitted-level-1);\n",
       "}\n",
       "\n",
       "/* On hover */\n",
       "div.sk-estimator:hover .sk-estimator-doc-link:hover,\n",
       ".sk-estimator-doc-link:hover,\n",
       "div.sk-label-container:hover .sk-estimator-doc-link:hover,\n",
       ".sk-estimator-doc-link:hover {\n",
       "  /* unfitted */\n",
       "  background-color: var(--sklearn-color-unfitted-level-3);\n",
       "  color: var(--sklearn-color-background);\n",
       "  text-decoration: none;\n",
       "}\n",
       "\n",
       "div.sk-estimator.fitted:hover .sk-estimator-doc-link.fitted:hover,\n",
       ".sk-estimator-doc-link.fitted:hover,\n",
       "div.sk-label-container:hover .sk-estimator-doc-link.fitted:hover,\n",
       ".sk-estimator-doc-link.fitted:hover {\n",
       "  /* fitted */\n",
       "  background-color: var(--sklearn-color-fitted-level-3);\n",
       "  color: var(--sklearn-color-background);\n",
       "  text-decoration: none;\n",
       "}\n",
       "\n",
       "/* Span, style for the box shown on hovering the info icon */\n",
       ".sk-estimator-doc-link span {\n",
       "  display: none;\n",
       "  z-index: 9999;\n",
       "  position: relative;\n",
       "  font-weight: normal;\n",
       "  right: .2ex;\n",
       "  padding: .5ex;\n",
       "  margin: .5ex;\n",
       "  width: min-content;\n",
       "  min-width: 20ex;\n",
       "  max-width: 50ex;\n",
       "  color: var(--sklearn-color-text);\n",
       "  box-shadow: 2pt 2pt 4pt #999;\n",
       "  /* unfitted */\n",
       "  background: var(--sklearn-color-unfitted-level-0);\n",
       "  border: .5pt solid var(--sklearn-color-unfitted-level-3);\n",
       "}\n",
       "\n",
       ".sk-estimator-doc-link.fitted span {\n",
       "  /* fitted */\n",
       "  background: var(--sklearn-color-fitted-level-0);\n",
       "  border: var(--sklearn-color-fitted-level-3);\n",
       "}\n",
       "\n",
       ".sk-estimator-doc-link:hover span {\n",
       "  display: block;\n",
       "}\n",
       "\n",
       "/* \"?\"-specific style due to the `<a>` HTML tag */\n",
       "\n",
       "#sk-container-id-1 a.estimator_doc_link {\n",
       "  float: right;\n",
       "  font-size: 1rem;\n",
       "  line-height: 1em;\n",
       "  font-family: monospace;\n",
       "  background-color: var(--sklearn-color-background);\n",
       "  border-radius: 1rem;\n",
       "  height: 1rem;\n",
       "  width: 1rem;\n",
       "  text-decoration: none;\n",
       "  /* unfitted */\n",
       "  color: var(--sklearn-color-unfitted-level-1);\n",
       "  border: var(--sklearn-color-unfitted-level-1) 1pt solid;\n",
       "}\n",
       "\n",
       "#sk-container-id-1 a.estimator_doc_link.fitted {\n",
       "  /* fitted */\n",
       "  border: var(--sklearn-color-fitted-level-1) 1pt solid;\n",
       "  color: var(--sklearn-color-fitted-level-1);\n",
       "}\n",
       "\n",
       "/* On hover */\n",
       "#sk-container-id-1 a.estimator_doc_link:hover {\n",
       "  /* unfitted */\n",
       "  background-color: var(--sklearn-color-unfitted-level-3);\n",
       "  color: var(--sklearn-color-background);\n",
       "  text-decoration: none;\n",
       "}\n",
       "\n",
       "#sk-container-id-1 a.estimator_doc_link.fitted:hover {\n",
       "  /* fitted */\n",
       "  background-color: var(--sklearn-color-fitted-level-3);\n",
       "}\n",
       "</style><div id=\"sk-container-id-1\" class=\"sk-top-container\"><div class=\"sk-text-repr-fallback\"><pre>Pipeline(steps=[(&#x27;impute&#x27;, SimpleImputer(strategy=&#x27;median&#x27;)),\n",
       "                (&#x27;scale&#x27;, StandardScaler())])</pre><b>In a Jupyter environment, please rerun this cell to show the HTML representation or trust the notebook. <br />On GitHub, the HTML representation is unable to render, please try loading this page with nbviewer.org.</b></div><div class=\"sk-container\" hidden><div class=\"sk-item sk-dashed-wrapped\"><div class=\"sk-label-container\"><div class=\"sk-label fitted sk-toggleable\"><input class=\"sk-toggleable__control sk-hidden--visually\" id=\"sk-estimator-id-1\" type=\"checkbox\" ><label for=\"sk-estimator-id-1\" class=\"sk-toggleable__label fitted sk-toggleable__label-arrow fitted\">&nbsp;&nbsp;Pipeline<a class=\"sk-estimator-doc-link fitted\" rel=\"noreferrer\" target=\"_blank\" href=\"https://scikit-learn.org/1.4/modules/generated/sklearn.pipeline.Pipeline.html\">?<span>Documentation for Pipeline</span></a><span class=\"sk-estimator-doc-link fitted\">i<span>Fitted</span></span></label><div class=\"sk-toggleable__content fitted\"><pre>Pipeline(steps=[(&#x27;impute&#x27;, SimpleImputer(strategy=&#x27;median&#x27;)),\n",
       "                (&#x27;scale&#x27;, StandardScaler())])</pre></div> </div></div><div class=\"sk-serial\"><div class=\"sk-item\"><div class=\"sk-estimator fitted sk-toggleable\"><input class=\"sk-toggleable__control sk-hidden--visually\" id=\"sk-estimator-id-2\" type=\"checkbox\" ><label for=\"sk-estimator-id-2\" class=\"sk-toggleable__label fitted sk-toggleable__label-arrow fitted\">&nbsp;SimpleImputer<a class=\"sk-estimator-doc-link fitted\" rel=\"noreferrer\" target=\"_blank\" href=\"https://scikit-learn.org/1.4/modules/generated/sklearn.impute.SimpleImputer.html\">?<span>Documentation for SimpleImputer</span></a></label><div class=\"sk-toggleable__content fitted\"><pre>SimpleImputer(strategy=&#x27;median&#x27;)</pre></div> </div></div><div class=\"sk-item\"><div class=\"sk-estimator fitted sk-toggleable\"><input class=\"sk-toggleable__control sk-hidden--visually\" id=\"sk-estimator-id-3\" type=\"checkbox\" ><label for=\"sk-estimator-id-3\" class=\"sk-toggleable__label fitted sk-toggleable__label-arrow fitted\">&nbsp;StandardScaler<a class=\"sk-estimator-doc-link fitted\" rel=\"noreferrer\" target=\"_blank\" href=\"https://scikit-learn.org/1.4/modules/generated/sklearn.preprocessing.StandardScaler.html\">?<span>Documentation for StandardScaler</span></a></label><div class=\"sk-toggleable__content fitted\"><pre>StandardScaler()</pre></div> </div></div></div></div></div></div>"
      ],
      "text/plain": [
       "Pipeline(steps=[('impute', SimpleImputer(strategy='median')),\n",
       "                ('scale', StandardScaler())])"
      ]
     },
     "execution_count": 39,
     "metadata": {},
     "output_type": "execute_result"
    }
   ],
   "source": [
    "imputer = SimpleImputer(strategy='median')\n",
    "scaler = StandardScaler()\n",
    "\n",
    "numeric_pipe = Pipeline([\n",
    "    ('impute', imputer),\n",
    "    ('scale', scaler),\n",
    "])\n",
    "\n",
    "numeric_pipe.fit(train_data[NUMERIC_FEATURES])"
   ]
  },
  {
   "cell_type": "code",
   "execution_count": 40,
   "id": "aa142023",
   "metadata": {},
   "outputs": [],
   "source": [
    "train_data[NUMERIC_FEATURES] = numeric_pipe.transform(train_data[NUMERIC_FEATURES])\n",
    "test_data[NUMERIC_FEATURES] = numeric_pipe.transform(test_data[NUMERIC_FEATURES])"
   ]
  },
  {
   "cell_type": "markdown",
   "id": "70359da3",
   "metadata": {},
   "source": [
    "#### Dtypes"
   ]
  },
  {
   "cell_type": "code",
   "execution_count": 41,
   "id": "f44e47a9",
   "metadata": {},
   "outputs": [],
   "source": [
    "train_data[CATEGORICAL_FEATURES] = train_data[CATEGORICAL_FEATURES].astype(str)\n",
    "test_data[CATEGORICAL_FEATURES] = test_data[CATEGORICAL_FEATURES].astype(str)\n",
    "\n",
    "train_data[NUMERIC_FEATURES] = train_data[NUMERIC_FEATURES].astype(int)\n",
    "test_data[NUMERIC_FEATURES] = test_data[NUMERIC_FEATURES].astype(int)"
   ]
  },
  {
   "cell_type": "markdown",
   "id": "e43652c2",
   "metadata": {},
   "source": [
    "#### Category Lookup Layers"
   ]
  },
  {
   "cell_type": "code",
   "execution_count": 42,
   "id": "70400e2a",
   "metadata": {},
   "outputs": [
    {
     "name": "stderr",
     "output_type": "stream",
     "text": [
      "100%|██████████| 206/206 [00:00<00:00, 327.38it/s]\n"
     ]
    },
    {
     "data": {
      "text/plain": [
       "{'SEQ.TI_0': <StringLookup name=string_lookup, built=False>,\n",
       " 'SEQ.CI_0': <StringLookup name=string_lookup_1, built=False>,\n",
       " 'SEQ.II_0': <StringLookup name=string_lookup_2, built=False>,\n",
       " 'SEQ.SS_0': <StringLookup name=string_lookup_3, built=False>,\n",
       " 'SEQ.TS_0': <StringLookup name=string_lookup_4, built=False>,\n",
       " 'OPS.O1_0': <StringLookup name=string_lookup_5, built=False>,\n",
       " 'OPS.O1_1': <StringLookup name=string_lookup_6, built=False>,\n",
       " 'OPS.O1_2': <StringLookup name=string_lookup_7, built=False>,\n",
       " 'OPS.O1_3': <StringLookup name=string_lookup_8, built=False>,\n",
       " 'OPS.O1_4': <StringLookup name=string_lookup_9, built=False>,\n",
       " 'OPS.O1_5': <StringLookup name=string_lookup_10, built=False>,\n",
       " 'OPS.O1_6': <StringLookup name=string_lookup_11, built=False>,\n",
       " 'OPS.O1_7': <StringLookup name=string_lookup_12, built=False>,\n",
       " 'OPS.O1_8': <StringLookup name=string_lookup_13, built=False>,\n",
       " 'OPS.O2_0': <StringLookup name=string_lookup_14, built=False>,\n",
       " 'OPS.O2_1': <StringLookup name=string_lookup_15, built=False>,\n",
       " 'OPS.O2_2': <StringLookup name=string_lookup_16, built=False>,\n",
       " 'OPS.O2_3': <StringLookup name=string_lookup_17, built=False>,\n",
       " 'OPS.O2_4': <StringLookup name=string_lookup_18, built=False>,\n",
       " 'OPS.O2_5': <StringLookup name=string_lookup_19, built=False>,\n",
       " 'OPS.O2_6': <StringLookup name=string_lookup_20, built=False>,\n",
       " 'OPS.O2_7': <StringLookup name=string_lookup_21, built=False>,\n",
       " 'OPS.O2_8': <StringLookup name=string_lookup_22, built=False>,\n",
       " 'OPS.O3_0': <StringLookup name=string_lookup_23, built=False>,\n",
       " 'OPS.O3_1': <StringLookup name=string_lookup_24, built=False>,\n",
       " 'OPS.O3_2': <StringLookup name=string_lookup_25, built=False>,\n",
       " 'OPS.O3_3': <StringLookup name=string_lookup_26, built=False>,\n",
       " 'OPS.O3_4': <StringLookup name=string_lookup_27, built=False>,\n",
       " 'OPS.O3_5': <StringLookup name=string_lookup_28, built=False>,\n",
       " 'OPS.O3_6': <StringLookup name=string_lookup_29, built=False>,\n",
       " 'OPS.O3_7': <StringLookup name=string_lookup_30, built=False>,\n",
       " 'OPS.O3_8': <StringLookup name=string_lookup_31, built=False>,\n",
       " 'OPS.O3_9': <StringLookup name=string_lookup_32, built=False>,\n",
       " 'OPS.O3_10': <StringLookup name=string_lookup_33, built=False>,\n",
       " 'OPS.O3_11': <StringLookup name=string_lookup_34, built=False>,\n",
       " 'OPS.O4_0': <StringLookup name=string_lookup_35, built=False>,\n",
       " 'OPS.O4_1': <StringLookup name=string_lookup_36, built=False>,\n",
       " 'OPS.O4_2': <StringLookup name=string_lookup_37, built=False>,\n",
       " 'OPS.O4_3': <StringLookup name=string_lookup_38, built=False>,\n",
       " 'OPS.O4_4': <StringLookup name=string_lookup_39, built=False>,\n",
       " 'OPS.O4_5': <StringLookup name=string_lookup_40, built=False>,\n",
       " 'OPS.O4_6': <StringLookup name=string_lookup_41, built=False>,\n",
       " 'OPS.O4_7': <StringLookup name=string_lookup_42, built=False>,\n",
       " 'OPS.O4_8': <StringLookup name=string_lookup_43, built=False>,\n",
       " 'OPS.O5_0': <StringLookup name=string_lookup_44, built=False>,\n",
       " 'OPS.O5_1': <StringLookup name=string_lookup_45, built=False>,\n",
       " 'OPS.O5_2': <StringLookup name=string_lookup_46, built=False>,\n",
       " 'OPS.O5_3': <StringLookup name=string_lookup_47, built=False>,\n",
       " 'OPS.O5_4': <StringLookup name=string_lookup_48, built=False>,\n",
       " 'OPS.O5_5': <StringLookup name=string_lookup_49, built=False>,\n",
       " 'OPS.O5_6': <StringLookup name=string_lookup_50, built=False>,\n",
       " 'OPS.O5_7': <StringLookup name=string_lookup_51, built=False>,\n",
       " 'OPS.O5_8': <StringLookup name=string_lookup_52, built=False>,\n",
       " 'OPS.O6_0': <StringLookup name=string_lookup_53, built=False>,\n",
       " 'OPS.O6_1': <StringLookup name=string_lookup_54, built=False>,\n",
       " 'OPS.O6_2': <StringLookup name=string_lookup_55, built=False>,\n",
       " 'OPS.O6_3': <StringLookup name=string_lookup_56, built=False>,\n",
       " 'OPS.O6_4': <StringLookup name=string_lookup_57, built=False>,\n",
       " 'OPS.O6_5': <StringLookup name=string_lookup_58, built=False>,\n",
       " 'OPS.O6_6': <StringLookup name=string_lookup_59, built=False>,\n",
       " 'ECN.R_0': <StringLookup name=string_lookup_60, built=False>,\n",
       " 'ECN.DF_0': <StringLookup name=string_lookup_61, built=False>,\n",
       " 'ECN.O_0': <StringLookup name=string_lookup_62, built=False>,\n",
       " 'ECN.O_1': <StringLookup name=string_lookup_63, built=False>,\n",
       " 'ECN.O_2': <StringLookup name=string_lookup_64, built=False>,\n",
       " 'ECN.O_3': <StringLookup name=string_lookup_65, built=False>,\n",
       " 'ECN.O_4': <StringLookup name=string_lookup_66, built=False>,\n",
       " 'ECN.O_5': <StringLookup name=string_lookup_67, built=False>,\n",
       " 'ECN.CC_0': <StringLookup name=string_lookup_68, built=False>,\n",
       " 'ECN.Q_0': <StringLookup name=string_lookup_69, built=False>,\n",
       " 'ECN.Q_1': <StringLookup name=string_lookup_70, built=False>,\n",
       " 'T1.R_0': <StringLookup name=string_lookup_71, built=False>,\n",
       " 'T1.DF_0': <StringLookup name=string_lookup_72, built=False>,\n",
       " 'T1.S_0': <StringLookup name=string_lookup_73, built=False>,\n",
       " 'T1.A_0': <StringLookup name=string_lookup_74, built=False>,\n",
       " 'T1.F_0': <StringLookup name=string_lookup_75, built=False>,\n",
       " 'T1.F_1': <StringLookup name=string_lookup_76, built=False>,\n",
       " 'T1.F_2': <StringLookup name=string_lookup_77, built=False>,\n",
       " 'T1.F_3': <StringLookup name=string_lookup_78, built=False>,\n",
       " 'T1.F_4': <StringLookup name=string_lookup_79, built=False>,\n",
       " 'T1.F_5': <StringLookup name=string_lookup_80, built=False>,\n",
       " 'T1.F_6': <StringLookup name=string_lookup_81, built=False>,\n",
       " 'T1.Q_0': <StringLookup name=string_lookup_82, built=False>,\n",
       " 'T1.Q_1': <StringLookup name=string_lookup_83, built=False>,\n",
       " 'T2.R_0': <StringLookup name=string_lookup_84, built=False>,\n",
       " 'T2.DF_0': <StringLookup name=string_lookup_85, built=False>,\n",
       " 'T2.S_0': <StringLookup name=string_lookup_86, built=False>,\n",
       " 'T2.A_0': <StringLookup name=string_lookup_87, built=False>,\n",
       " 'T2.F_0': <StringLookup name=string_lookup_88, built=False>,\n",
       " 'T2.F_1': <StringLookup name=string_lookup_89, built=False>,\n",
       " 'T2.F_2': <StringLookup name=string_lookup_90, built=False>,\n",
       " 'T2.F_3': <StringLookup name=string_lookup_91, built=False>,\n",
       " 'T2.F_4': <StringLookup name=string_lookup_92, built=False>,\n",
       " 'T2.F_5': <StringLookup name=string_lookup_93, built=False>,\n",
       " 'T2.F_6': <StringLookup name=string_lookup_94, built=False>,\n",
       " 'T2.O_0': <StringLookup name=string_lookup_95, built=False>,\n",
       " 'T2.O_1': <StringLookup name=string_lookup_96, built=False>,\n",
       " 'T2.O_2': <StringLookup name=string_lookup_97, built=False>,\n",
       " 'T2.O_3': <StringLookup name=string_lookup_98, built=False>,\n",
       " 'T2.O_4': <StringLookup name=string_lookup_99, built=False>,\n",
       " 'T2.Q_0': <StringLookup name=string_lookup_100, built=False>,\n",
       " 'T2.Q_1': <StringLookup name=string_lookup_101, built=False>,\n",
       " 'T3.R_0': <StringLookup name=string_lookup_102, built=False>,\n",
       " 'T3.DF_0': <StringLookup name=string_lookup_103, built=False>,\n",
       " 'T3.S_0': <StringLookup name=string_lookup_104, built=False>,\n",
       " 'T3.A_0': <StringLookup name=string_lookup_105, built=False>,\n",
       " 'T3.F_0': <StringLookup name=string_lookup_106, built=False>,\n",
       " 'T3.F_1': <StringLookup name=string_lookup_107, built=False>,\n",
       " 'T3.F_2': <StringLookup name=string_lookup_108, built=False>,\n",
       " 'T3.F_3': <StringLookup name=string_lookup_109, built=False>,\n",
       " 'T3.F_4': <StringLookup name=string_lookup_110, built=False>,\n",
       " 'T3.F_5': <StringLookup name=string_lookup_111, built=False>,\n",
       " 'T3.F_6': <StringLookup name=string_lookup_112, built=False>,\n",
       " 'T3.O_0': <StringLookup name=string_lookup_113, built=False>,\n",
       " 'T3.O_1': <StringLookup name=string_lookup_114, built=False>,\n",
       " 'T3.O_2': <StringLookup name=string_lookup_115, built=False>,\n",
       " 'T3.O_3': <StringLookup name=string_lookup_116, built=False>,\n",
       " 'T3.O_4': <StringLookup name=string_lookup_117, built=False>,\n",
       " 'T3.O_5': <StringLookup name=string_lookup_118, built=False>,\n",
       " 'T3.O_6': <StringLookup name=string_lookup_119, built=False>,\n",
       " 'T3.O_7': <StringLookup name=string_lookup_120, built=False>,\n",
       " 'T3.O_8': <StringLookup name=string_lookup_121, built=False>,\n",
       " 'T3.Q_0': <StringLookup name=string_lookup_122, built=False>,\n",
       " 'T3.Q_1': <StringLookup name=string_lookup_123, built=False>,\n",
       " 'T4.R_0': <StringLookup name=string_lookup_124, built=False>,\n",
       " 'T4.DF_0': <StringLookup name=string_lookup_125, built=False>,\n",
       " 'T4.S_0': <StringLookup name=string_lookup_126, built=False>,\n",
       " 'T4.A_0': <StringLookup name=string_lookup_127, built=False>,\n",
       " 'T4.F_0': <StringLookup name=string_lookup_128, built=False>,\n",
       " 'T4.F_1': <StringLookup name=string_lookup_129, built=False>,\n",
       " 'T4.F_2': <StringLookup name=string_lookup_130, built=False>,\n",
       " 'T4.F_3': <StringLookup name=string_lookup_131, built=False>,\n",
       " 'T4.F_4': <StringLookup name=string_lookup_132, built=False>,\n",
       " 'T4.F_5': <StringLookup name=string_lookup_133, built=False>,\n",
       " 'T4.F_6': <StringLookup name=string_lookup_134, built=False>,\n",
       " 'T4.O_0': <StringLookup name=string_lookup_135, built=False>,\n",
       " 'T4.O_1': <StringLookup name=string_lookup_136, built=False>,\n",
       " 'T4.O_2': <StringLookup name=string_lookup_137, built=False>,\n",
       " 'T4.O_3': <StringLookup name=string_lookup_138, built=False>,\n",
       " 'T4.O_4': <StringLookup name=string_lookup_139, built=False>,\n",
       " 'T4.Q_0': <StringLookup name=string_lookup_140, built=False>,\n",
       " 'T4.Q_1': <StringLookup name=string_lookup_141, built=False>,\n",
       " 'T5.R_0': <StringLookup name=string_lookup_142, built=False>,\n",
       " 'T5.DF_0': <StringLookup name=string_lookup_143, built=False>,\n",
       " 'T5.S_0': <StringLookup name=string_lookup_144, built=False>,\n",
       " 'T5.A_0': <StringLookup name=string_lookup_145, built=False>,\n",
       " 'T5.F_0': <StringLookup name=string_lookup_146, built=False>,\n",
       " 'T5.F_1': <StringLookup name=string_lookup_147, built=False>,\n",
       " 'T5.F_2': <StringLookup name=string_lookup_148, built=False>,\n",
       " 'T5.F_3': <StringLookup name=string_lookup_149, built=False>,\n",
       " 'T5.F_4': <StringLookup name=string_lookup_150, built=False>,\n",
       " 'T5.F_5': <StringLookup name=string_lookup_151, built=False>,\n",
       " 'T5.F_6': <StringLookup name=string_lookup_152, built=False>,\n",
       " 'T5.O_0': <StringLookup name=string_lookup_153, built=False>,\n",
       " 'T5.O_1': <StringLookup name=string_lookup_154, built=False>,\n",
       " 'T5.O_2': <StringLookup name=string_lookup_155, built=False>,\n",
       " 'T5.O_3': <StringLookup name=string_lookup_156, built=False>,\n",
       " 'T5.O_4': <StringLookup name=string_lookup_157, built=False>,\n",
       " 'T5.Q_0': <StringLookup name=string_lookup_158, built=False>,\n",
       " 'T5.Q_1': <StringLookup name=string_lookup_159, built=False>,\n",
       " 'T6.R_0': <StringLookup name=string_lookup_160, built=False>,\n",
       " 'T6.DF_0': <StringLookup name=string_lookup_161, built=False>,\n",
       " 'T6.S_0': <StringLookup name=string_lookup_162, built=False>,\n",
       " 'T6.A_0': <StringLookup name=string_lookup_163, built=False>,\n",
       " 'T6.F_0': <StringLookup name=string_lookup_164, built=False>,\n",
       " 'T6.F_1': <StringLookup name=string_lookup_165, built=False>,\n",
       " 'T6.F_2': <StringLookup name=string_lookup_166, built=False>,\n",
       " 'T6.F_3': <StringLookup name=string_lookup_167, built=False>,\n",
       " 'T6.F_4': <StringLookup name=string_lookup_168, built=False>,\n",
       " 'T6.F_5': <StringLookup name=string_lookup_169, built=False>,\n",
       " 'T6.F_6': <StringLookup name=string_lookup_170, built=False>,\n",
       " 'T6.O_0': <StringLookup name=string_lookup_171, built=False>,\n",
       " 'T6.O_1': <StringLookup name=string_lookup_172, built=False>,\n",
       " 'T6.O_2': <StringLookup name=string_lookup_173, built=False>,\n",
       " 'T6.O_3': <StringLookup name=string_lookup_174, built=False>,\n",
       " 'T6.O_4': <StringLookup name=string_lookup_175, built=False>,\n",
       " 'T6.Q_0': <StringLookup name=string_lookup_176, built=False>,\n",
       " 'T6.Q_1': <StringLookup name=string_lookup_177, built=False>,\n",
       " 'T7.R_0': <StringLookup name=string_lookup_178, built=False>,\n",
       " 'T7.DF_0': <StringLookup name=string_lookup_179, built=False>,\n",
       " 'T7.S_0': <StringLookup name=string_lookup_180, built=False>,\n",
       " 'T7.A_0': <StringLookup name=string_lookup_181, built=False>,\n",
       " 'T7.F_0': <StringLookup name=string_lookup_182, built=False>,\n",
       " 'T7.F_1': <StringLookup name=string_lookup_183, built=False>,\n",
       " 'T7.F_2': <StringLookup name=string_lookup_184, built=False>,\n",
       " 'T7.F_3': <StringLookup name=string_lookup_185, built=False>,\n",
       " 'T7.F_4': <StringLookup name=string_lookup_186, built=False>,\n",
       " 'T7.F_5': <StringLookup name=string_lookup_187, built=False>,\n",
       " 'T7.F_6': <StringLookup name=string_lookup_188, built=False>,\n",
       " 'T7.O_0': <StringLookup name=string_lookup_189, built=False>,\n",
       " 'T7.O_1': <StringLookup name=string_lookup_190, built=False>,\n",
       " 'T7.O_2': <StringLookup name=string_lookup_191, built=False>,\n",
       " 'T7.O_3': <StringLookup name=string_lookup_192, built=False>,\n",
       " 'T7.O_4': <StringLookup name=string_lookup_193, built=False>,\n",
       " 'T7.Q_0': <StringLookup name=string_lookup_194, built=False>,\n",
       " 'T7.Q_1': <StringLookup name=string_lookup_195, built=False>,\n",
       " 'U1.R_0': <StringLookup name=string_lookup_196, built=False>,\n",
       " 'U1.DF_0': <StringLookup name=string_lookup_197, built=False>,\n",
       " 'U1.RIPL_0': <StringLookup name=string_lookup_198, built=False>,\n",
       " 'U1.RID_0': <StringLookup name=string_lookup_199, built=False>,\n",
       " 'U1.RIPCK_0': <StringLookup name=string_lookup_200, built=False>,\n",
       " 'U1.RUCK_0': <StringLookup name=string_lookup_201, built=False>,\n",
       " 'U1.RUD_0': <StringLookup name=string_lookup_202, built=False>,\n",
       " 'IE.R_0': <StringLookup name=string_lookup_203, built=False>,\n",
       " 'IE.DFI_0': <StringLookup name=string_lookup_204, built=False>,\n",
       " 'IE.CD_0': <StringLookup name=string_lookup_205, built=False>}"
      ]
     },
     "execution_count": 42,
     "metadata": {},
     "output_type": "execute_result"
    }
   ],
   "source": [
    "category_prep_layers = build_categorical_prep(train_data, CATEGORICAL_FEATURES)\n",
    "category_prep_layers"
   ]
  },
  {
   "cell_type": "markdown",
   "id": "0760a352",
   "metadata": {},
   "source": [
    "#### To TF Dataset"
   ]
  },
  {
   "cell_type": "code",
   "execution_count": 43,
   "id": "bb5a823c",
   "metadata": {},
   "outputs": [
    {
     "ename": "ValueError",
     "evalue": "Multi-dimensional indexing (e.g. `obj[:, None]`) is no longer supported. Convert to a numpy array before indexing instead.",
     "output_type": "error",
     "traceback": [
      "\u001b[1;31m---------------------------------------------------------------------------\u001b[0m",
      "\u001b[1;31mValueError\u001b[0m                                Traceback (most recent call last)",
      "Cell \u001b[1;32mIn[43], line 1\u001b[0m\n\u001b[1;32m----> 1\u001b[0m train_dataset \u001b[38;5;241m=\u001b[39m \u001b[43mdf_to_dataset\u001b[49m\u001b[43m(\u001b[49m\u001b[43mtrain_data\u001b[49m\u001b[43m[\u001b[49m\u001b[43mFEATURES\u001b[49m\u001b[43m \u001b[49m\u001b[38;5;241;43m+\u001b[39;49m\u001b[43m \u001b[49m\u001b[43m[\u001b[49m\u001b[43mLABEL\u001b[49m\u001b[43m]\u001b[49m\u001b[43m]\u001b[49m\u001b[43m,\u001b[49m\u001b[43m \u001b[49m\u001b[43mLABEL\u001b[49m\u001b[43m)\u001b[49m\n\u001b[0;32m      2\u001b[0m test_dataset \u001b[38;5;241m=\u001b[39m df_to_dataset(test_data[FEATURES], \u001b[38;5;28;01mNone\u001b[39;00m, shuffle\u001b[38;5;241m=\u001b[39m\u001b[38;5;28;01mFalse\u001b[39;00m)\n",
      "File \u001b[1;32mc:\\Users\\ruben\\Git-Repositories\\os-fingerprinting-tabtransformers-nmap\\.venv\\Lib\\site-packages\\tabtransformertf\\utils\\preprocessing.py:21\u001b[0m, in \u001b[0;36mdf_to_dataset\u001b[1;34m(dataframe, target, shuffle, batch_size)\u001b[0m\n\u001b[0;32m     19\u001b[0m     dataset \u001b[38;5;241m=\u001b[39m {}\n\u001b[0;32m     20\u001b[0m     \u001b[38;5;28;01mfor\u001b[39;00m key, value \u001b[38;5;129;01min\u001b[39;00m df\u001b[38;5;241m.\u001b[39mitems():\n\u001b[1;32m---> 21\u001b[0m         dataset[key] \u001b[38;5;241m=\u001b[39m \u001b[43mvalue\u001b[49m\u001b[43m[\u001b[49m\u001b[43m:\u001b[49m\u001b[43m,\u001b[49m\u001b[43m \u001b[49m\u001b[43mtf\u001b[49m\u001b[38;5;241;43m.\u001b[39;49m\u001b[43mnewaxis\u001b[49m\u001b[43m]\u001b[49m\n\u001b[0;32m     23\u001b[0m     dataset \u001b[38;5;241m=\u001b[39m tf\u001b[38;5;241m.\u001b[39mdata\u001b[38;5;241m.\u001b[39mDataset\u001b[38;5;241m.\u001b[39mfrom_tensor_slices((\u001b[38;5;28mdict\u001b[39m(dataset), labels))\n\u001b[0;32m     24\u001b[0m \u001b[38;5;28;01melse\u001b[39;00m:\n",
      "File \u001b[1;32mc:\\Users\\ruben\\Git-Repositories\\os-fingerprinting-tabtransformers-nmap\\.venv\\Lib\\site-packages\\pandas\\core\\series.py:1144\u001b[0m, in \u001b[0;36mSeries.__getitem__\u001b[1;34m(self, key)\u001b[0m\n\u001b[0;32m   1141\u001b[0m     key \u001b[38;5;241m=\u001b[39m np\u001b[38;5;241m.\u001b[39masarray(key, dtype\u001b[38;5;241m=\u001b[39m\u001b[38;5;28mbool\u001b[39m)\n\u001b[0;32m   1142\u001b[0m     \u001b[38;5;28;01mreturn\u001b[39;00m \u001b[38;5;28mself\u001b[39m\u001b[38;5;241m.\u001b[39m_get_rows_with_mask(key)\n\u001b[1;32m-> 1144\u001b[0m \u001b[38;5;28;01mreturn\u001b[39;00m \u001b[38;5;28;43mself\u001b[39;49m\u001b[38;5;241;43m.\u001b[39;49m\u001b[43m_get_with\u001b[49m\u001b[43m(\u001b[49m\u001b[43mkey\u001b[49m\u001b[43m)\u001b[49m\n",
      "File \u001b[1;32mc:\\Users\\ruben\\Git-Repositories\\os-fingerprinting-tabtransformers-nmap\\.venv\\Lib\\site-packages\\pandas\\core\\series.py:1154\u001b[0m, in \u001b[0;36mSeries._get_with\u001b[1;34m(self, key)\u001b[0m\n\u001b[0;32m   1149\u001b[0m     \u001b[38;5;28;01mraise\u001b[39;00m \u001b[38;5;167;01mTypeError\u001b[39;00m(\n\u001b[0;32m   1150\u001b[0m         \u001b[38;5;124m\"\u001b[39m\u001b[38;5;124mIndexing a Series with DataFrame is not \u001b[39m\u001b[38;5;124m\"\u001b[39m\n\u001b[0;32m   1151\u001b[0m         \u001b[38;5;124m\"\u001b[39m\u001b[38;5;124msupported, use the appropriate DataFrame column\u001b[39m\u001b[38;5;124m\"\u001b[39m\n\u001b[0;32m   1152\u001b[0m     )\n\u001b[0;32m   1153\u001b[0m \u001b[38;5;28;01melif\u001b[39;00m \u001b[38;5;28misinstance\u001b[39m(key, \u001b[38;5;28mtuple\u001b[39m):\n\u001b[1;32m-> 1154\u001b[0m     \u001b[38;5;28;01mreturn\u001b[39;00m \u001b[38;5;28;43mself\u001b[39;49m\u001b[38;5;241;43m.\u001b[39;49m\u001b[43m_get_values_tuple\u001b[49m\u001b[43m(\u001b[49m\u001b[43mkey\u001b[49m\u001b[43m)\u001b[49m\n\u001b[0;32m   1156\u001b[0m \u001b[38;5;28;01melif\u001b[39;00m \u001b[38;5;129;01mnot\u001b[39;00m is_list_like(key):\n\u001b[0;32m   1157\u001b[0m     \u001b[38;5;66;03m# e.g. scalars that aren't recognized by lib.is_scalar, GH#32684\u001b[39;00m\n\u001b[0;32m   1158\u001b[0m     \u001b[38;5;28;01mreturn\u001b[39;00m \u001b[38;5;28mself\u001b[39m\u001b[38;5;241m.\u001b[39mloc[key]\n",
      "File \u001b[1;32mc:\\Users\\ruben\\Git-Repositories\\os-fingerprinting-tabtransformers-nmap\\.venv\\Lib\\site-packages\\pandas\\core\\series.py:1194\u001b[0m, in \u001b[0;36mSeries._get_values_tuple\u001b[1;34m(self, key)\u001b[0m\n\u001b[0;32m   1189\u001b[0m \u001b[38;5;28;01mif\u001b[39;00m com\u001b[38;5;241m.\u001b[39many_none(\u001b[38;5;241m*\u001b[39mkey):\n\u001b[0;32m   1190\u001b[0m     \u001b[38;5;66;03m# mpl compat if we look up e.g. ser[:, np.newaxis];\u001b[39;00m\n\u001b[0;32m   1191\u001b[0m     \u001b[38;5;66;03m#  see tests.series.timeseries.test_mpl_compat_hack\u001b[39;00m\n\u001b[0;32m   1192\u001b[0m     \u001b[38;5;66;03m# the asarray is needed to avoid returning a 2D DatetimeArray\u001b[39;00m\n\u001b[0;32m   1193\u001b[0m     result \u001b[38;5;241m=\u001b[39m np\u001b[38;5;241m.\u001b[39masarray(\u001b[38;5;28mself\u001b[39m\u001b[38;5;241m.\u001b[39m_values[key])\n\u001b[1;32m-> 1194\u001b[0m     \u001b[43mdisallow_ndim_indexing\u001b[49m\u001b[43m(\u001b[49m\u001b[43mresult\u001b[49m\u001b[43m)\u001b[49m\n\u001b[0;32m   1195\u001b[0m     \u001b[38;5;28;01mreturn\u001b[39;00m result\n\u001b[0;32m   1197\u001b[0m \u001b[38;5;28;01mif\u001b[39;00m \u001b[38;5;129;01mnot\u001b[39;00m \u001b[38;5;28misinstance\u001b[39m(\u001b[38;5;28mself\u001b[39m\u001b[38;5;241m.\u001b[39mindex, MultiIndex):\n",
      "File \u001b[1;32mc:\\Users\\ruben\\Git-Repositories\\os-fingerprinting-tabtransformers-nmap\\.venv\\Lib\\site-packages\\pandas\\core\\indexers\\utils.py:341\u001b[0m, in \u001b[0;36mdisallow_ndim_indexing\u001b[1;34m(result)\u001b[0m\n\u001b[0;32m    333\u001b[0m \u001b[38;5;250m\u001b[39m\u001b[38;5;124;03m\"\"\"\u001b[39;00m\n\u001b[0;32m    334\u001b[0m \u001b[38;5;124;03mHelper function to disallow multi-dimensional indexing on 1D Series/Index.\u001b[39;00m\n\u001b[0;32m    335\u001b[0m \n\u001b[1;32m   (...)\u001b[0m\n\u001b[0;32m    338\u001b[0m \u001b[38;5;124;03min GH#30588.\u001b[39;00m\n\u001b[0;32m    339\u001b[0m \u001b[38;5;124;03m\"\"\"\u001b[39;00m\n\u001b[0;32m    340\u001b[0m \u001b[38;5;28;01mif\u001b[39;00m np\u001b[38;5;241m.\u001b[39mndim(result) \u001b[38;5;241m>\u001b[39m \u001b[38;5;241m1\u001b[39m:\n\u001b[1;32m--> 341\u001b[0m     \u001b[38;5;28;01mraise\u001b[39;00m \u001b[38;5;167;01mValueError\u001b[39;00m(\n\u001b[0;32m    342\u001b[0m         \u001b[38;5;124m\"\u001b[39m\u001b[38;5;124mMulti-dimensional indexing (e.g. `obj[:, None]`) is no longer \u001b[39m\u001b[38;5;124m\"\u001b[39m\n\u001b[0;32m    343\u001b[0m         \u001b[38;5;124m\"\u001b[39m\u001b[38;5;124msupported. Convert to a numpy array before indexing instead.\u001b[39m\u001b[38;5;124m\"\u001b[39m\n\u001b[0;32m    344\u001b[0m     )\n",
      "\u001b[1;31mValueError\u001b[0m: Multi-dimensional indexing (e.g. `obj[:, None]`) is no longer supported. Convert to a numpy array before indexing instead."
     ]
    }
   ],
   "source": [
    "train_dataset = df_to_dataset(train_data[FEATURES + [LABEL]], LABEL)\n",
    "test_dataset = df_to_dataset(test_data[FEATURES], None, shuffle=False)"
   ]
  },
  {
   "cell_type": "markdown",
   "id": "5a3e40e7",
   "metadata": {},
   "source": [
    "#### Hyperparameter Tuning"
   ]
  },
  {
   "cell_type": "code",
   "execution_count": null,
   "id": "21ec3dda",
   "metadata": {},
   "outputs": [],
   "source": [
    "def objective(trial):\n",
    "    embedding_dim = trial.suggest_categorical('embedding_dim',[8, 16, 32, 64])\n",
    "    depth = trial.suggest_int('depth',1,6,1)\n",
    "    heads = trial.suggest_int('heads',2,8,1)\n",
    "    attn_dropout = trial.suggest_float(\"attn_dropout\", 0.05, 0.5)\n",
    "    ff_dropout = trial.suggest_float(\"ff_dropout\", 0.05, 0.5)\n",
    "    mlp_hidden_factor1 = trial.suggest_int(\"mlp_hidden_factor1\", 1, 3, 0.5)\n",
    "    mlp_hidden_factor2 = trial.suggest_int(\"mlp_hidden_factor2\", 1, 3, 0.5)\n",
    "    use_column_embedding = trial.suggest_categorical('use_column_embedding', [True, False])\n",
    "    \n",
    "    category_prep_layers = build_categorical_prep(train_data, CATEGORICAL_FEATURES)\n",
    "    \n",
    "    tabtransformer = TabTransformer(\n",
    "        numerical_features = NUMERIC_FEATURES,\n",
    "        categorical_features = CATEGORICAL_FEATURES,\n",
    "        categorical_lookup=category_prep_layers,\n",
    "        numerical_discretisers=None, # simply passing the numeric features\n",
    "        embedding_dim=embedding_dim,\n",
    "        out_dim=1,\n",
    "        out_activation='sigmoid',\n",
    "        depth=depth,\n",
    "        heads=heads,\n",
    "        attn_dropout=attn_dropout,\n",
    "        ff_dropout=ff_dropout,\n",
    "        mlp_hidden_factors=[mlp_hidden_factor1, mlp_hidden_factor2],\n",
    "        use_column_embedding=use_column_embedding,\n",
    "    )\n",
    "    \n",
    "    LEARNING_RATE = 0.001\n",
    "    WEIGHT_DECAY = 0.0001\n",
    "    NUM_EPOCHS = 1000\n",
    "\n",
    "    optimizer = AdamW(\n",
    "            learning_rate=LEARNING_RATE, weight_decay=WEIGHT_DECAY\n",
    "        )\n",
    "\n",
    "    tabtransformer.compile(\n",
    "        optimizer = optimizer,\n",
    "        loss = tf.keras.losses.BinaryCrossentropy(),\n",
    "        metrics= [tf.keras.metrics.AUC(name=\"AUC\", curve='ROC')],\n",
    "    )\n",
    "    \n",
    "    early = EarlyStopping(monitor=\"val_loss\", mode=\"min\", patience=20, restore_best_weights=True)\n",
    "    callback_list = [early]\n",
    "\n",
    "    history = tabtransformer.fit(\n",
    "        train_dataset, \n",
    "        epochs=NUM_EPOCHS, \n",
    "        validation_data=test_dataset,\n",
    "        callbacks=callback_list,\n",
    "        verbose=0\n",
    "    )\n",
    "    \n",
    "    val_preds = tabtransformer.predict(test_dataset)\n",
    "    roc = roc_auc_score(test_dataset[LABEL], val_preds.ravel())\n",
    "    \n",
    "    gc.collect()\n",
    "    \n",
    "    return roc\n",
    "\n",
    "study = optuna.create_study(direction='maximize')\n",
    "study.optimize(objective, n_trials=50)"
   ]
  },
  {
   "cell_type": "markdown",
   "id": "9555e9a6",
   "metadata": {},
   "source": [
    "#### Training"
   ]
  },
  {
   "cell_type": "code",
   "execution_count": null,
   "id": "df41f750",
   "metadata": {},
   "outputs": [],
   "source": [
    "tabtransformer = TabTransformer(\n",
    "        numerical_features = NUMERIC_FEATURES,\n",
    "        categorical_features = CATEGORICAL_FEATURES,\n",
    "        categorical_lookup=category_prep_layers,\n",
    "        numerical_discretisers=None, # simply passing the numeric features\n",
    "        embedding_dim=32,\n",
    "        out_dim=1,\n",
    "        out_activation='sigmoid',\n",
    "        depth=6,\n",
    "        heads=5,\n",
    "        attn_dropout=0.087687,\n",
    "        ff_dropout=0.429539,\n",
    "        mlp_hidden_factors=[1, 1],\n",
    "        use_column_embedding=False,\n",
    "    )\n",
    "\n",
    "LEARNING_RATE = 0.001\n",
    "WEIGHT_DECAY = 0.0001\n",
    "NUM_EPOCHS = 1000\n",
    "\n",
    "optimizer = tfa.optimizers.AdamW(\n",
    "        learning_rate=LEARNING_RATE, weight_decay=WEIGHT_DECAY\n",
    "    )\n",
    "\n",
    "tabtransformer.compile(\n",
    "    optimizer = optimizer,\n",
    "    loss = tf.keras.losses.BinaryCrossentropy(),\n",
    "    metrics= [tf.keras.metrics.AUC(name=\"AUC\", curve='ROC')],\n",
    ")\n",
    "\n",
    "early = EarlyStopping(monitor=\"val_loss\", mode=\"min\", patience=20, restore_best_weights=True)\n",
    "callback_list = [early]\n",
    "\n",
    "history = tabtransformer.fit(\n",
    "    train_dataset, \n",
    "    epochs=NUM_EPOCHS, \n",
    "    validation_data=val_dataset,\n",
    "    callbacks=callback_list,\n",
    "    verbose=1,\n",
    ")"
   ]
  },
  {
   "cell_type": "markdown",
   "metadata": {},
   "source": [
    "### Classic ML"
   ]
  },
  {
   "cell_type": "code",
   "execution_count": null,
   "metadata": {},
   "outputs": [],
   "source": [
    "import time\n",
    "from sklearn.model_selection import cross_val_score, GridSearchCV, StratifiedKFold\n",
    "from sklearn.metrics import confusion_matrix,accuracy_score, roc_auc_score,f1_score, recall_score, precision_score\n",
    "from sklearn.utils import class_weight\n",
    "from sklearn.neighbors import KNeighborsClassifier\n",
    "from sklearn.ensemble import RandomForestClassifier, ExtraTreesClassifier\n",
    "from sklearn.ensemble import GradientBoostingClassifier, BaggingClassifier, AdaBoostClassifier\n",
    "from sklearn.metrics import classification_report\n",
    "from sklearn.naive_bayes import GaussianNB\n",
    "from sklearn.discriminant_analysis import LinearDiscriminantAnalysis\n",
    "from sklearn.tree import DecisionTreeClassifier\n",
    "from sklearn.linear_model import LogisticRegression\n",
    "from sklearn.svm import SVC\n",
    "from sklearn.neural_network import MLPClassifier"
   ]
  },
  {
   "cell_type": "code",
   "execution_count": null,
   "metadata": {},
   "outputs": [],
   "source": [
    "def set_weights(y_data, option='balanced'):\n",
    "    \"\"\"Estimate class weights for umbalanced dataset\n",
    "       If ‘balanced’, class weights will be given by n_samples / (n_classes * np.bincount(y)). \n",
    "       If a dictionary is given, keys are classes and values are corresponding class weights. \n",
    "       If None is given, the class weights will be uniform \"\"\"\n",
    "    cw = class_weight.compute_class_weight(option, np.unique(y_data), y_data)\n",
    "    w = {i:j for i,j in zip(np.unique(y_data), cw)}\n",
    "    return w"
   ]
  },
  {
   "cell_type": "code",
   "execution_count": null,
   "metadata": {},
   "outputs": [],
   "source": [
    "class_weights = set_weights(Ydata)"
   ]
  },
  {
   "cell_type": "code",
   "execution_count": null,
   "metadata": {},
   "outputs": [],
   "source": [
    "print(\"Classes=\",class_weights)"
   ]
  },
  {
   "cell_type": "code",
   "execution_count": null,
   "metadata": {},
   "outputs": [],
   "source": [
    "# define a list of classifiers to train as baseline classifiers\n",
    "classifiers = [\n",
    "    GaussianNB(),\n",
    "    LinearDiscriminantAnalysis(), # No random_state\n",
    "    LogisticRegression(n_jobs=-1,solver='lbfgs',random_state=seed,class_weight=class_weights),\n",
    "    MLPClassifier(hidden_layer_sizes= (30), random_state = seed, shuffle=False, solver='adam',activation='relu',batch_size=500, max_iter=5000),\n",
    "    DecisionTreeClassifier(random_state=seed,class_weight=class_weights),\n",
    "    RandomForestClassifier(n_jobs=-1,random_state=seed,class_weight=class_weights),\n",
    "    BaggingClassifier(n_jobs=-1,random_state=seed),\n",
    "]"
   ]
  },
  {
   "cell_type": "code",
   "execution_count": null,
   "metadata": {},
   "outputs": [],
   "source": [
    "# training and metrics (ACC, precision, recall, f1score) for a classifier\n",
    "def ML_baseline(cls, X_tr, y_tr, X_ts, y_ts, seed=42, classes=['0','1']):\n",
    "    ACC = 0\n",
    "    AUROC = 0\n",
    "    precision = 0 \n",
    "    recall = 0\n",
    "    f1score = 0\n",
    "    \n",
    "    cls_name = type(cls).__name__\n",
    "    \n",
    "    start_time = time.time()\n",
    "    cls.fit(X_tr, y_tr) # TRAINING!\n",
    "    print('\\n---->', \"training: %0.2f mins \\n\\n\" % ((time.time() - start_time)/60))\n",
    "    \n",
    "    # predictions\n",
    "    y_pred  = cls.predict(X_ts)             # predict classes\n",
    "    y_probs = cls.predict_proba(X_ts)[:, 1] # predict probabilities of classes\n",
    "    cls_rep = classification_report(y_ts, y_pred, target_names=classes,\n",
    "                                    output_dict=True, digits=3)\n",
    "    # print classification report\n",
    "    #print(cls_rep)\n",
    "    \n",
    "    ACC       = accuracy_score(y_ts, y_pred)\n",
    "    #AUROC     = roc_auc_score(y_ts, y_probs) # this is working for 2-classes classification only!!!\n",
    "    precision = cls_rep['weighted avg']['precision']\n",
    "    recall    = cls_rep['weighted avg']['recall']\n",
    "    f1score   = cls_rep['weighted avg']['f1-score']  \n",
    "    \n",
    "    # print metrics\n",
    "    print(\"\\n\", \"ACC=\", ACC, \"precision=\", precision, \"recall=\", recall, \"f1score=\",f1score)\n",
    "    \n",
    "    return cls, ACC, precision, recall, f1score"
   ]
  },
  {
   "cell_type": "code",
   "execution_count": null,
   "metadata": {},
   "outputs": [],
   "source": [
    "# create a dataframe for ML baseline\n",
    "df_ML = pd.DataFrame(columns=['Method', 'ACC','precision' ,'recall' ,'f1-score' ])\n",
    "\n",
    "for cls in classifiers:\n",
    "    print(\"\\n**********************************\\n\", cls_name = type(cls).__name__)\n",
    "    cls_fit, ACC, precision,recall,f1score=ML_baseline(cls, X_train, y_train, X_test, y_test, seed=seed,classes=['1','2','3','4','5','6','7'])\n",
    "    df_ML = df_ML.append({'Method': str(type(cls).__name__),\n",
    "                          'ACC': float(ACC),\n",
    "                          #'AUROC': float(AUROC),\n",
    "                          'precision': float(precision),\n",
    "                          'recall': float(recall),\n",
    "                          'f1-score': float(f1score)}, ignore_index=True)\n",
    "\n",
    "df_ML"
   ]
  },
  {
   "cell_type": "code",
   "execution_count": null,
   "metadata": {},
   "outputs": [],
   "source": [
    "df_ML.to_csv('ML_results.csv', index=False) # write to file the results"
   ]
  },
  {
   "cell_type": "markdown",
   "metadata": {},
   "source": [
    "### Try a better classifier for the best ML method\n",
    "\n",
    "We are using the best methods from baseline to find better hyperparameters for a better model."
   ]
  },
  {
   "cell_type": "code",
   "execution_count": null,
   "metadata": {},
   "outputs": [],
   "source": [
    "# out best model was RF:\n",
    "cls=RandomForestClassifier(n_jobs=-1,random_state=seed,class_weight=class_weights)"
   ]
  },
  {
   "cell_type": "code",
   "execution_count": null,
   "metadata": {},
   "outputs": [],
   "source": [
    "# check all the parameters\n",
    "cls.get_params()"
   ]
  },
  {
   "cell_type": "code",
   "execution_count": null,
   "metadata": {},
   "outputs": [],
   "source": [
    "# define a list of classifiers to train with different params\n",
    "classifiers = [\n",
    "    RandomForestClassifier(n_estimators=10, n_jobs=-1,random_state=seed,class_weight=class_weights),\n",
    "    RandomForestClassifier(n_estimators=20, n_jobs=-1,random_state=seed,class_weight=class_weights),\n",
    "    RandomForestClassifier(n_estimators=50, n_jobs=-1,random_state=seed,class_weight=class_weights),\n",
    "    RandomForestClassifier(n_estimators=100, n_jobs=-1,random_state=seed,class_weight=class_weights),\n",
    "    RandomForestClassifier(n_estimators=200, n_jobs=-1,random_state=seed,class_weight=class_weights),\n",
    "    RandomForestClassifier(n_estimators=300, n_jobs=-1,random_state=seed,class_weight=class_weights),\n",
    "    RandomForestClassifier(n_estimators=500, n_jobs=-1,random_state=seed,class_weight=class_weights),\n",
    "]"
   ]
  },
  {
   "cell_type": "code",
   "execution_count": null,
   "metadata": {},
   "outputs": [],
   "source": [
    "# create a dataframe for ML baseline\n",
    "df_ML2 = pd.DataFrame(columns=['Method', 'ACC','precision' ,'recall' ,'f1-score' ])\n",
    "df_ML2\n",
    "\n",
    "for cls in classifiers:\n",
    "    print(\"\\n**********************************\\n\", cls)\n",
    "    cls_fit, ACC, precision,recall,f1score=ML_baseline(cls, X_train, y_train, X_test, y_test, seed=seed,classes=['Android', 'BSD', 'Linux', 'Solaris', 'Windows', 'iOS', 'macOS'])\n",
    "    df_ML2 = df_ML2.append({'Method': str(type(cls).__name__)+'-NoTrees='+str(cls.get_params()['n_estimators']),\n",
    "                            'ACC': float(ACC),\n",
    "                            #'AUROC': float(AUROC),\n",
    "                            'precision': float(precision),\n",
    "                            'recall': float(recall),\n",
    "                            'f1-score': float(f1score)}, ignore_index=True)\n"
   ]
  },
  {
   "cell_type": "code",
   "execution_count": null,
   "metadata": {},
   "outputs": [],
   "source": [
    "df_ML2"
   ]
  },
  {
   "cell_type": "code",
   "execution_count": null,
   "metadata": {},
   "outputs": [],
   "source": [
    "df_ML2.to_csv('ML_results_best1.csv', index=False)"
   ]
  },
  {
   "cell_type": "code",
   "execution_count": null,
   "metadata": {},
   "outputs": [],
   "source": [
    "# list(cls.classes_)"
   ]
  },
  {
   "cell_type": "markdown",
   "metadata": {},
   "source": [
    "### Grid search - search for the best params"
   ]
  },
  {
   "cell_type": "code",
   "execution_count": null,
   "metadata": {},
   "outputs": [],
   "source": [
    "paramsx = {'bootstrap': [True, False],\n",
    "           'max_depth': [10, 20, 30, 40, 50, None],\n",
    "           'max_features': ['auto', 'sqrt'],\n",
    "           'min_samples_leaf': [1, 2, 4],\n",
    "           'min_samples_split': [2, 5, 10],\n",
    "           'n_estimators': [50]\n",
    "          }"
   ]
  },
  {
   "cell_type": "code",
   "execution_count": null,
   "metadata": {},
   "outputs": [],
   "source": [
    "forest= RandomForestClassifier(random_state=seed,class_weight=class_weights)"
   ]
  },
  {
   "cell_type": "code",
   "execution_count": null,
   "metadata": {},
   "outputs": [],
   "source": [
    "gridF = GridSearchCV(forest, paramsx, cv = 3, verbose = 2, n_jobs = -1)\n",
    "bestF = gridF.fit(X_train, y_train)"
   ]
  },
  {
   "cell_type": "code",
   "execution_count": null,
   "metadata": {},
   "outputs": [],
   "source": [
    "bestF.best_params_ # params of the best model"
   ]
  },
  {
   "cell_type": "code",
   "execution_count": null,
   "metadata": {},
   "outputs": [],
   "source": [
    "from sklearn import metrics\n",
    "\n",
    "def evaluate(model, test_features, test_labels):\n",
    "    y_pred = model.predict(test_features)\n",
    "    accuracy = metrics.accuracy_score(y_test, y_pred)\n",
    "    print (accuracy)\n",
    "    print(confusion_matrix(y_test,y_pred))"
   ]
  },
  {
   "cell_type": "code",
   "execution_count": null,
   "metadata": {},
   "outputs": [],
   "source": [
    "best_grid = bestF.best_estimator_ # the best model from grid search\n",
    "\n",
    "evaluate(best_grid,X_test,y_test)"
   ]
  },
  {
   "cell_type": "markdown",
   "metadata": {},
   "source": [
    "### Feature importance"
   ]
  },
  {
   "cell_type": "code",
   "execution_count": null,
   "metadata": {},
   "outputs": [],
   "source": [
    "# calculate ACC\n",
    "y_pred=clf.predict(X_test)\n",
    "print(list(clf.classes_))\n",
    "#Import scikit-learn metrics module for accuracy calculation\n",
    "from sklearn import metrics\n",
    "\n",
    "# Model Accuracy, how often is the classifier correct?\n",
    "print(\"Accuracy:\",metrics.accuracy_score(y_test, y_pred))\n",
    "\n",
    "feature_imp = pd.Series(clf.feature_importances_,index=df.columns[:-1]).sort_values(ascending=False)\n",
    "feature_imp[:30]"
   ]
  }
 ],
 "metadata": {
  "kernelspec": {
   "display_name": "Python 3 (ipykernel)",
   "language": "python",
   "name": "python3"
  },
  "language_info": {
   "codemirror_mode": {
    "name": "ipython",
    "version": 3
   },
   "file_extension": ".py",
   "mimetype": "text/x-python",
   "name": "python",
   "nbconvert_exporter": "python",
   "pygments_lexer": "ipython3",
   "version": "3.11.1"
  }
 },
 "nbformat": 4,
 "nbformat_minor": 5
}
