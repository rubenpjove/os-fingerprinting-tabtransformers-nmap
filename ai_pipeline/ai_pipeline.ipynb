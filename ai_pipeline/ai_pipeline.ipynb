{
 "cells": [
  {
   "cell_type": "markdown",
   "metadata": {},
   "source": [
    "# Applying TabTranformers to OS fingerprinting task using nmap dataset"
   ]
  },
  {
   "cell_type": "code",
   "execution_count": 34,
   "metadata": {},
   "outputs": [],
   "source": [
    "import numpy as np\n",
    "import pandas as pd"
   ]
  },
  {
   "cell_type": "code",
   "execution_count": 35,
   "metadata": {},
   "outputs": [],
   "source": [
    "seed = 2021\n",
    "np.random.seed(seed)"
   ]
  },
  {
   "cell_type": "markdown",
   "metadata": {},
   "source": [
    "### Read dataset from disk"
   ]
  },
  {
   "cell_type": "code",
   "execution_count": 36,
   "metadata": {},
   "outputs": [
    {
     "name": "stderr",
     "output_type": "stream",
     "text": [
      "C:\\Users\\ruben\\AppData\\Local\\Temp\\ipykernel_5556\\4144603811.py:1: DtypeWarning: Columns (41,42,43,44,45,46,90,91,107,118,120,129,143,155,177,185,190,192,193,194,195,196,199,207,212,221,229,242,243) have mixed types. Specify dtype option on import or set low_memory=False.\n",
      "  df = pd.read_csv(\"../dataset/dataset_no_encoded.csv\")\n"
     ]
    }
   ],
   "source": [
    "df = pd.read_csv(\"../dataset/dataset_no_encoded.csv\")"
   ]
  },
  {
   "cell_type": "code",
   "execution_count": 37,
   "metadata": {},
   "outputs": [
    {
     "data": {
      "text/html": [
       "<div>\n",
       "<style scoped>\n",
       "    .dataframe tbody tr th:only-of-type {\n",
       "        vertical-align: middle;\n",
       "    }\n",
       "\n",
       "    .dataframe tbody tr th {\n",
       "        vertical-align: top;\n",
       "    }\n",
       "\n",
       "    .dataframe thead th {\n",
       "        text-align: right;\n",
       "    }\n",
       "</style>\n",
       "<table border=\"1\" class=\"dataframe\">\n",
       "  <thead>\n",
       "    <tr style=\"text-align: right;\">\n",
       "      <th></th>\n",
       "      <th>Unnamed: 0</th>\n",
       "      <th>Class.vendor_0</th>\n",
       "      <th>Class.OSfamily_0</th>\n",
       "      <th>Class.OSgen_0</th>\n",
       "      <th>Class.device_0</th>\n",
       "      <th>SEQ.SP_0</th>\n",
       "      <th>SEQ.GCD_0</th>\n",
       "      <th>SEQ.ISR_0</th>\n",
       "      <th>SEQ.TI_0</th>\n",
       "      <th>SEQ.TI_1</th>\n",
       "      <th>...</th>\n",
       "      <th>U1.RIPCK_0</th>\n",
       "      <th>U1.RUCK_0</th>\n",
       "      <th>U1.RUCK_1</th>\n",
       "      <th>U1.RUD_0</th>\n",
       "      <th>IE.R_0</th>\n",
       "      <th>IE.DFI_0</th>\n",
       "      <th>IE.T_0</th>\n",
       "      <th>IE.TG_0</th>\n",
       "      <th>IE.CD_0</th>\n",
       "      <th>IE.CD_1</th>\n",
       "    </tr>\n",
       "  </thead>\n",
       "  <tbody>\n",
       "    <tr>\n",
       "      <th>0</th>\n",
       "      <td>0</td>\n",
       "      <td>Linux</td>\n",
       "      <td>Linux</td>\n",
       "      <td>NaN</td>\n",
       "      <td>WAP</td>\n",
       "      <td>257</td>\n",
       "      <td>6</td>\n",
       "      <td>255</td>\n",
       "      <td>I</td>\n",
       "      <td>-1</td>\n",
       "      <td>...</td>\n",
       "      <td>NaN</td>\n",
       "      <td>NaN</td>\n",
       "      <td>-1</td>\n",
       "      <td>NaN</td>\n",
       "      <td>NaN</td>\n",
       "      <td>N</td>\n",
       "      <td>123</td>\n",
       "      <td>128</td>\n",
       "      <td>S</td>\n",
       "      <td>-1</td>\n",
       "    </tr>\n",
       "    <tr>\n",
       "      <th>1</th>\n",
       "      <td>1</td>\n",
       "      <td>Linux</td>\n",
       "      <td>Linux</td>\n",
       "      <td>2.4.X</td>\n",
       "      <td>specialized</td>\n",
       "      <td>188</td>\n",
       "      <td>1</td>\n",
       "      <td>204</td>\n",
       "      <td>Z</td>\n",
       "      <td>-1</td>\n",
       "      <td>...</td>\n",
       "      <td>G</td>\n",
       "      <td>G</td>\n",
       "      <td>-1</td>\n",
       "      <td>G</td>\n",
       "      <td>NaN</td>\n",
       "      <td>N</td>\n",
       "      <td>65</td>\n",
       "      <td>64</td>\n",
       "      <td>S</td>\n",
       "      <td>-1</td>\n",
       "    </tr>\n",
       "    <tr>\n",
       "      <th>2</th>\n",
       "      <td>2</td>\n",
       "      <td>Linux</td>\n",
       "      <td>Linux</td>\n",
       "      <td>2.6.X</td>\n",
       "      <td>specialized</td>\n",
       "      <td>5</td>\n",
       "      <td>64001</td>\n",
       "      <td>154</td>\n",
       "      <td>I</td>\n",
       "      <td>-1</td>\n",
       "      <td>...</td>\n",
       "      <td>G</td>\n",
       "      <td>G</td>\n",
       "      <td>-1</td>\n",
       "      <td>G</td>\n",
       "      <td>NaN</td>\n",
       "      <td>S</td>\n",
       "      <td>59</td>\n",
       "      <td>64</td>\n",
       "      <td>Z</td>\n",
       "      <td>-1</td>\n",
       "    </tr>\n",
       "    <tr>\n",
       "      <th>3</th>\n",
       "      <td>3</td>\n",
       "      <td>Linux</td>\n",
       "      <td>Linux</td>\n",
       "      <td>2.6.X</td>\n",
       "      <td>specialized</td>\n",
       "      <td>0</td>\n",
       "      <td>128002</td>\n",
       "      <td>152</td>\n",
       "      <td>I</td>\n",
       "      <td>-1</td>\n",
       "      <td>...</td>\n",
       "      <td>G</td>\n",
       "      <td>G</td>\n",
       "      <td>-1</td>\n",
       "      <td>G</td>\n",
       "      <td>NaN</td>\n",
       "      <td>S</td>\n",
       "      <td>68</td>\n",
       "      <td>64</td>\n",
       "      <td>Z</td>\n",
       "      <td>-1</td>\n",
       "    </tr>\n",
       "    <tr>\n",
       "      <th>4</th>\n",
       "      <td>4</td>\n",
       "      <td>Linux</td>\n",
       "      <td>Linux</td>\n",
       "      <td>2.6.X</td>\n",
       "      <td>specialized</td>\n",
       "      <td>1</td>\n",
       "      <td>192003</td>\n",
       "      <td>150</td>\n",
       "      <td>I</td>\n",
       "      <td>-1</td>\n",
       "      <td>...</td>\n",
       "      <td>G</td>\n",
       "      <td>G</td>\n",
       "      <td>-1</td>\n",
       "      <td>G</td>\n",
       "      <td>NaN</td>\n",
       "      <td>S</td>\n",
       "      <td>67</td>\n",
       "      <td>64</td>\n",
       "      <td>Z</td>\n",
       "      <td>-1</td>\n",
       "    </tr>\n",
       "  </tbody>\n",
       "</table>\n",
       "<p>5 rows × 264 columns</p>\n",
       "</div>"
      ],
      "text/plain": [
       "   Unnamed: 0 Class.vendor_0 Class.OSfamily_0 Class.OSgen_0 Class.device_0  \\\n",
       "0           0          Linux            Linux           NaN            WAP   \n",
       "1           1          Linux            Linux         2.4.X    specialized   \n",
       "2           2          Linux            Linux         2.6.X    specialized   \n",
       "3           3          Linux            Linux         2.6.X    specialized   \n",
       "4           4          Linux            Linux         2.6.X    specialized   \n",
       "\n",
       "   SEQ.SP_0  SEQ.GCD_0  SEQ.ISR_0 SEQ.TI_0  SEQ.TI_1  ... U1.RIPCK_0  \\\n",
       "0       257          6        255        I        -1  ...        NaN   \n",
       "1       188          1        204        Z        -1  ...          G   \n",
       "2         5      64001        154        I        -1  ...          G   \n",
       "3         0     128002        152        I        -1  ...          G   \n",
       "4         1     192003        150        I        -1  ...          G   \n",
       "\n",
       "   U1.RUCK_0 U1.RUCK_1  U1.RUD_0 IE.R_0 IE.DFI_0  IE.T_0 IE.TG_0 IE.CD_0  \\\n",
       "0        NaN        -1       NaN    NaN        N     123     128       S   \n",
       "1          G        -1         G    NaN        N      65      64       S   \n",
       "2          G        -1         G    NaN        S      59      64       Z   \n",
       "3          G        -1         G    NaN        S      68      64       Z   \n",
       "4          G        -1         G    NaN        S      67      64       Z   \n",
       "\n",
       "  IE.CD_1  \n",
       "0      -1  \n",
       "1      -1  \n",
       "2      -1  \n",
       "3      -1  \n",
       "4      -1  \n",
       "\n",
       "[5 rows x 264 columns]"
      ]
     },
     "execution_count": 37,
     "metadata": {},
     "output_type": "execute_result"
    }
   ],
   "source": [
    "df.head()"
   ]
  },
  {
   "cell_type": "code",
   "execution_count": 38,
   "metadata": {
    "scrolled": true
   },
   "outputs": [
    {
     "name": "stdout",
     "output_type": "stream",
     "text": [
      "['Class.OSfamily_0', 'SEQ.SP_0', 'SEQ.GCD_0', 'SEQ.ISR_0', 'SEQ.TI_0', 'SEQ.TI_1', 'SEQ.CI_0', 'SEQ.CI_1', 'SEQ.II_0', 'SEQ.II_1', 'SEQ.SS_0', 'SEQ.TS_0', 'SEQ.TS_1', 'OPS.O1_0', 'OPS.O1_1', 'OPS.O1_2', 'OPS.O1_3', 'OPS.O1_4', 'OPS.O1_5', 'OPS.O1_6', 'OPS.O1_7', 'OPS.O1_8', 'OPS.O2_0', 'OPS.O2_1', 'OPS.O2_2', 'OPS.O2_3', 'OPS.O2_4', 'OPS.O2_5', 'OPS.O2_6', 'OPS.O2_7', 'OPS.O2_8', 'OPS.O3_0', 'OPS.O3_1', 'OPS.O3_2', 'OPS.O3_3', 'OPS.O3_4', 'OPS.O3_5', 'OPS.O3_6', 'OPS.O3_7', 'OPS.O3_8', 'OPS.O3_9', 'OPS.O3_10', 'OPS.O3_11', 'OPS.O4_0', 'OPS.O4_1', 'OPS.O4_2', 'OPS.O4_3', 'OPS.O4_4', 'OPS.O4_5', 'OPS.O4_6', 'OPS.O4_7', 'OPS.O4_8', 'OPS.O5_0', 'OPS.O5_1', 'OPS.O5_2', 'OPS.O5_3', 'OPS.O5_4', 'OPS.O5_5', 'OPS.O5_6', 'OPS.O5_7', 'OPS.O5_8', 'OPS.O6_0', 'OPS.O6_1', 'OPS.O6_2', 'OPS.O6_3', 'OPS.O6_4', 'OPS.O6_5', 'OPS.O6_6', 'WIN.W1_0', 'WIN.W2_0', 'WIN.W3_0', 'WIN.W4_0', 'WIN.W5_0', 'WIN.W6_0', 'ECN.R_0', 'ECN.DF_0', 'ECN.T_0', 'ECN.TG_0', 'ECN.W_0', 'ECN.O_0', 'ECN.O_1', 'ECN.O_2', 'ECN.O_3', 'ECN.O_4', 'ECN.O_5', 'ECN.CC_0', 'ECN.Q_0', 'ECN.Q_1', 'T1.R_0', 'T1.DF_0', 'T1.T_0', 'T1.TG_0', 'T1.S_0', 'T1.A_0', 'T1.F_0', 'T1.F_1', 'T1.F_2', 'T1.F_3', 'T1.F_4', 'T1.F_5', 'T1.F_6', 'T1.RD_0', 'T1.Q_0', 'T1.Q_1', 'T2.R_0', 'T2.DF_0', 'T2.T_0', 'T2.TG_0', 'T2.W_0', 'T2.S_0', 'T2.A_0', 'T2.F_0', 'T2.F_1', 'T2.F_2', 'T2.F_3', 'T2.F_4', 'T2.F_5', 'T2.F_6', 'T2.O_0', 'T2.O_1', 'T2.O_2', 'T2.O_3', 'T2.O_4', 'T2.RD_0', 'T2.Q_0', 'T2.Q_1', 'T3.R_0', 'T3.DF_0', 'T3.T_0', 'T3.TG_0', 'T3.W_0', 'T3.S_0', 'T3.A_0', 'T3.F_0', 'T3.F_1', 'T3.F_2', 'T3.F_3', 'T3.F_4', 'T3.F_5', 'T3.F_6', 'T3.O_0', 'T3.O_1', 'T3.O_2', 'T3.O_3', 'T3.O_4', 'T3.O_5', 'T3.O_6', 'T3.O_7', 'T3.O_8', 'T3.RD_0', 'T3.Q_0', 'T3.Q_1', 'T4.R_0', 'T4.DF_0', 'T4.T_0', 'T4.TG_0', 'T4.W_0', 'T4.S_0', 'T4.A_0', 'T4.F_0', 'T4.F_1', 'T4.F_2', 'T4.F_3', 'T4.F_4', 'T4.F_5', 'T4.F_6', 'T4.O_0', 'T4.O_1', 'T4.O_2', 'T4.O_3', 'T4.O_4', 'T4.RD_0', 'T4.Q_0', 'T4.Q_1', 'T5.R_0', 'T5.DF_0', 'T5.T_0', 'T5.TG_0', 'T5.W_0', 'T5.S_0', 'T5.A_0', 'T5.F_0', 'T5.F_1', 'T5.F_2', 'T5.F_3', 'T5.F_4', 'T5.F_5', 'T5.F_6', 'T5.O_0', 'T5.O_1', 'T5.O_2', 'T5.O_3', 'T5.O_4', 'T5.RD_0', 'T5.Q_0', 'T5.Q_1', 'T6.R_0', 'T6.DF_0', 'T6.T_0', 'T6.TG_0', 'T6.W_0', 'T6.S_0', 'T6.A_0', 'T6.F_0', 'T6.F_1', 'T6.F_2', 'T6.F_3', 'T6.F_4', 'T6.F_5', 'T6.F_6', 'T6.O_0', 'T6.O_1', 'T6.O_2', 'T6.O_3', 'T6.O_4', 'T6.RD_0', 'T6.Q_0', 'T6.Q_1', 'T7.R_0', 'T7.DF_0', 'T7.T_0', 'T7.TG_0', 'T7.W_0', 'T7.S_0', 'T7.A_0', 'T7.F_0', 'T7.F_1', 'T7.F_2', 'T7.F_3', 'T7.F_4', 'T7.F_5', 'T7.F_6', 'T7.O_0', 'T7.O_1', 'T7.O_2', 'T7.O_3', 'T7.O_4', 'T7.RD_0', 'T7.Q_0', 'T7.Q_1', 'U1.R_0', 'U1.DF_0', 'U1.T_0', 'U1.TG_0', 'U1.IPL_0', 'U1.UN_0', 'U1.RIPL_0', 'U1.RIPL_1', 'U1.RID_0', 'U1.RID_1', 'U1.RIPCK_0', 'U1.RUCK_0', 'U1.RUCK_1', 'U1.RUD_0', 'IE.R_0', 'IE.DFI_0', 'IE.T_0', 'IE.TG_0', 'IE.CD_0', 'IE.CD_1']\n"
     ]
    }
   ],
   "source": [
    "df.pop('Unnamed: 0')\n",
    "df.pop('Class.vendor_0')\n",
    "df.pop('Class.OSgen_0')\n",
    "df.pop('Class.device_0')\n",
    "\n",
    "df.reset_index(drop=True, inplace=True)\n",
    "\n",
    "# header = names of columns\n",
    "print(list(df.columns))"
   ]
  },
  {
   "cell_type": "code",
   "execution_count": 39,
   "metadata": {},
   "outputs": [
    {
     "name": "stdout",
     "output_type": "stream",
     "text": [
      "No features= 259\n"
     ]
    }
   ],
   "source": [
    "# no of features (X)\n",
    "print(\"No features=\", len(list(df.columns))-1)"
   ]
  },
  {
   "cell_type": "code",
   "execution_count": 40,
   "metadata": {},
   "outputs": [
    {
     "name": "stdout",
     "output_type": "stream",
     "text": [
      "Output= Class.OSfamily_0\n"
     ]
    }
   ],
   "source": [
    "# output name\n",
    "print(\"Output=\", list(df.columns)[0])"
   ]
  },
  {
   "cell_type": "code",
   "execution_count": 41,
   "metadata": {},
   "outputs": [
    {
     "name": "stdout",
     "output_type": "stream",
     "text": [
      "Class.OSfamily_0\n"
     ]
    }
   ],
   "source": [
    "# define output variable name\n",
    "OutVar = list(df.columns)[0]\n",
    "print(OutVar)"
   ]
  },
  {
   "cell_type": "markdown",
   "metadata": {},
   "source": [
    "### Checking data"
   ]
  },
  {
   "cell_type": "code",
   "execution_count": 31,
   "metadata": {},
   "outputs": [],
   "source": [
    "def DataCheckings(df):\n",
    "    # Check the number of data points in the data set\n",
    "    print(\"\\nData points =\", len(df))\n",
    "    \n",
    "    # Check the number of columns in the data set\n",
    "    print(\"\\nColumns (output + features)=\",len(df.columns))\n",
    "    \n",
    "    # Check the data types\n",
    "    print(\"\\nData types =\", df.dtypes.unique())\n",
    "    \n",
    "    # Dataset statistics\n",
    "    print('\\n')\n",
    "    df.describe()\n",
    "    \n",
    "    # print names of columns\n",
    "    print('Column Names:\\n', df.columns)\n",
    "    \n",
    "    # see if there are categorical data\n",
    "    print(\"\\nCategorical features:\", df.select_dtypes(include=['O']).columns.tolist())\n",
    "    \n",
    "    # Check NA values\n",
    "    # Check any number of columns with NaN\n",
    "    print(\"\\nColumns with NaN: \", df.isnull().any().sum(), ' / ', len(df.columns))\n",
    "\n",
    "    # Check any number of data points with NaN\n",
    "    print(\"\\nNo of data points with NaN:\", df.isnull().any(axis=1).sum(), ' / ', len(df))"
   ]
  },
  {
   "cell_type": "code",
   "execution_count": 32,
   "metadata": {},
   "outputs": [
    {
     "name": "stdout",
     "output_type": "stream",
     "text": [
      "\n",
      "Data points = 4397\n",
      "\n",
      "Columns (output + features)= 261\n",
      "\n",
      "Data types = [dtype('O') dtype('int64')]\n",
      "\n",
      "\n",
      "Column Names:\n",
      " Index(['Class.OSfamily_0', 'SEQ.SP_0', 'SEQ.GCD_0', 'SEQ.ISR_0', 'SEQ.TI_0',\n",
      "       'SEQ.TI_1', 'SEQ.CI_0', 'SEQ.CI_1', 'SEQ.II_0', 'SEQ.II_1',\n",
      "       ...\n",
      "       'U1.RIPCK_1', 'U1.RUCK_0', 'U1.RUCK_1', 'U1.RUD_0', 'IE.R_0',\n",
      "       'IE.DFI_0', 'IE.T_0', 'IE.TG_0', 'IE.CD_0', 'IE.CD_1'],\n",
      "      dtype='object', length=261)\n",
      "\n",
      "Categorical features: ['Class.OSfamily_0']\n",
      "\n",
      "Columns with NaN:  0  /  261\n",
      "\n",
      "No of data points with NaN: 0  /  4397\n"
     ]
    }
   ],
   "source": [
    "DataCheckings(df)"
   ]
  },
  {
   "cell_type": "code",
   "execution_count": 33,
   "metadata": {},
   "outputs": [
    {
     "name": "stdout",
     "output_type": "stream",
     "text": [
      "Shape before removing duplicates= (4397, 261)\n"
     ]
    }
   ],
   "source": [
    "print('Shape before removing duplicates=', df.shape)"
   ]
  },
  {
   "cell_type": "code",
   "execution_count": 34,
   "metadata": {},
   "outputs": [],
   "source": [
    "# remove duplicates!\n",
    "df.drop_duplicates(keep=False, inplace=True)"
   ]
  },
  {
   "cell_type": "code",
   "execution_count": 35,
   "metadata": {},
   "outputs": [
    {
     "name": "stdout",
     "output_type": "stream",
     "text": [
      "Shape after removing duplicates= (4397, 261)\n"
     ]
    }
   ],
   "source": [
    "print('Shape after removing duplicates=', df.shape)"
   ]
  },
  {
   "cell_type": "markdown",
   "metadata": {},
   "source": [
    "### Remove near zero variance features"
   ]
  },
  {
   "cell_type": "code",
   "execution_count": 22,
   "metadata": {},
   "outputs": [
    {
     "ename": "ModuleNotFoundError",
     "evalue": "No module named 'sklearn'",
     "output_type": "error",
     "traceback": [
      "\u001b[1;31m---------------------------------------------------------------------------\u001b[0m",
      "\u001b[1;31mModuleNotFoundError\u001b[0m                       Traceback (most recent call last)",
      "Cell \u001b[1;32mIn[22], line 1\u001b[0m\n\u001b[1;32m----> 1\u001b[0m \u001b[38;5;28;01mfrom\u001b[39;00m \u001b[38;5;21;01msklearn\u001b[39;00m\u001b[38;5;21;01m.\u001b[39;00m\u001b[38;5;21;01mutils\u001b[39;00m \u001b[38;5;28;01mimport\u001b[39;00m class_weight\n\u001b[0;32m      2\u001b[0m \u001b[38;5;28;01mfrom\u001b[39;00m \u001b[38;5;21;01msklearn\u001b[39;00m\u001b[38;5;21;01m.\u001b[39;00m\u001b[38;5;21;01mfeature_selection\u001b[39;00m \u001b[38;5;28;01mimport\u001b[39;00m VarianceThreshold\n",
      "\u001b[1;31mModuleNotFoundError\u001b[0m: No module named 'sklearn'"
     ]
    }
   ],
   "source": [
    "from sklearn.utils import class_weight\n",
    "from sklearn.feature_selection import VarianceThreshold"
   ]
  },
  {
   "cell_type": "code",
   "execution_count": 15,
   "metadata": {},
   "outputs": [],
   "source": [
    "def getDataFromDataFrame(df, OutVar):\n",
    "    # get X, Y data and column names from df\n",
    "    print('\\n-> Get X & Y data, Features list')\n",
    "    print('Shape', df.shape)\n",
    "    \n",
    "    # select X and Y\n",
    "    ds_y = df[OutVar]\n",
    "    ds_X = df.drop(OutVar,axis = 1)\n",
    "    Xdata = ds_X.values # get values of features\n",
    "    Ydata = ds_y.values # get output values\n",
    "\n",
    "    print('Shape X data:', Xdata.shape)\n",
    "    print('Shape Y data:', Ydata.shape)\n",
    "    \n",
    "    # return data for X and Y, feature names as list\n",
    "    print('Done!')\n",
    "    return (Xdata, Ydata, list(ds_X.columns))\n",
    "\n",
    "def Remove0VarCols(df, OutVar):\n",
    "    Xdata, Ydata, Features = getDataFromDataFrame(df,OutVar=OutVar)# out var = Class \n",
    "    print('\\n-> Remove zero variance features')\n",
    "    # print('Initial features:', Features)\n",
    "    selector= VarianceThreshold()\n",
    "    Xdata = selector.fit_transform(Xdata)\n",
    "    # Selected features\n",
    "    SelFeatures = []\n",
    "    for i in selector.get_support(indices=True):\n",
    "        SelFeatures.append(Features[i])\n",
    "    print('Removed features:',list(set(Features) - set(SelFeatures)))\n",
    "    \n",
    "    # create the resulted dataframe\n",
    "    df = pd.DataFrame(Xdata,columns=SelFeatures)\n",
    "    df[OutVar] = Ydata # add class column\n",
    "    # print('Final columns:', list(df.columns))\n",
    "    print('Done!')\n",
    "    return df"
   ]
  },
  {
   "cell_type": "code",
   "execution_count": 16,
   "metadata": {},
   "outputs": [
    {
     "name": "stdout",
     "output_type": "stream",
     "text": [
      "\n",
      "-> Get X & Y data, Features list\n",
      "Shape (264852, 269)\n",
      "Shape X data: (264852, 268)\n",
      "Shape Y data: (264852,)\n",
      "Done!\n",
      "\n",
      "-> Remove zero variance features\n",
      "Removed features: ['T4.F_3', 'T2.Q_0', 'T5.F_0', 'SEQ.CI_1', 'T6.F_0', 'T2.F_1', 'T7.F_5', 'ECN.Q_0', 'T4.Q_0', 'T5.F_1', 'SEQ.TI_1', 'T6.F_3', 'T5.Q_0', 'T4.F_1', 'T4.F_0', 'T1.Q_0', 'T7.F_0', 'T6.F_1', 'T7.F_3', 'T1.F_0', 'T3.F_1', 'T1.F_1', 'T2.F_0', 'T6.Q_0', 'T1.F_6', 'IE.CD_1', 'U1.RIPCK_1', 'T3.Q_0', 'T7.F_1', 'T3.F_3', 'T3.F_0', 'T5.F_3', 'T4.F_5', 'T7.Q_0', 'SEQ.II_1']\n",
      "Done!\n"
     ]
    }
   ],
   "source": [
    "df = Remove0VarCols(df, OutVar)"
   ]
  },
  {
   "cell_type": "code",
   "execution_count": 17,
   "metadata": {},
   "outputs": [
    {
     "name": "stdout",
     "output_type": "stream",
     "text": [
      "Dataset dimension AFTER removing near zero variance features= (264852, 234)\n"
     ]
    }
   ],
   "source": [
    "# print dimension AFTER removing features\n",
    "print(\"Dataset dimension AFTER removing near zero variance features=\",df.shape)"
   ]
  },
  {
   "cell_type": "code",
   "execution_count": 18,
   "metadata": {},
   "outputs": [
    {
     "data": {
      "text/plain": [
       "Index(['SEQ.SP_0', 'SEQ.GCD_0', 'SEQ.ISR_0', 'SEQ.TI_0', 'SEQ.CI_0',\n",
       "       'SEQ.II_0', 'SEQ.SS_0', 'SEQ.TS_0', 'SEQ.TS_1', 'OPS.O1_0',\n",
       "       ...\n",
       "       'U1.RIPCK_0', 'U1.RUCK_0', 'U1.RUCK_1', 'U1.RUD_0', 'IE.R_0',\n",
       "       'IE.DFI_0', 'IE.T_0', 'IE.TG_0', 'IE.CD_0', 'Class.OSfamily_0'],\n",
       "      dtype='object', length=234)"
      ]
     },
     "execution_count": 18,
     "metadata": {},
     "output_type": "execute_result"
    }
   ],
   "source": [
    "df.columns"
   ]
  },
  {
   "cell_type": "markdown",
   "metadata": {},
   "source": [
    "### Verify the classes ballance"
   ]
  },
  {
   "cell_type": "code",
   "execution_count": 19,
   "metadata": {},
   "outputs": [
    {
     "data": {
      "text/plain": [
       "Linux      142548\n",
       "Windows     67128\n",
       "iOS         17232\n",
       "macOS       16160\n",
       "BSD         14278\n",
       "Solaris      4926\n",
       "Android      2580\n",
       "Name: Class.OSfamily_0, dtype: int64"
      ]
     },
     "execution_count": 19,
     "metadata": {},
     "output_type": "execute_result"
    }
   ],
   "source": [
    "df[OutVar].value_counts()"
   ]
  },
  {
   "cell_type": "markdown",
   "metadata": {},
   "source": [
    "### Get data as arrays"
   ]
  },
  {
   "cell_type": "code",
   "execution_count": 20,
   "metadata": {},
   "outputs": [
    {
     "name": "stdout",
     "output_type": "stream",
     "text": [
      "Shape X data: (264852, 233)\n",
      "Shape Y data: (264852,)\n"
     ]
    }
   ],
   "source": [
    "# select X and Y\n",
    "Ydata = df[OutVar].values                  # get values of features\n",
    "Xdata = df.drop(OutVar,axis = 1).values    # get output values\n",
    "\n",
    "print('Shape X data:', Xdata.shape)\n",
    "print('Shape Y data:',Ydata.shape)"
   ]
  },
  {
   "cell_type": "code",
   "execution_count": 21,
   "metadata": {
    "scrolled": true
   },
   "outputs": [
    {
     "data": {
      "text/plain": [
       "array(['Linux', 'Linux', 'Linux', ..., 'Linux', 'Linux', 'Linux'],\n",
       "      dtype=object)"
      ]
     },
     "execution_count": 21,
     "metadata": {},
     "output_type": "execute_result"
    }
   ],
   "source": [
    "Ydata"
   ]
  },
  {
   "cell_type": "markdown",
   "metadata": {},
   "source": [
    "### Data split"
   ]
  },
  {
   "cell_type": "code",
   "execution_count": 22,
   "metadata": {},
   "outputs": [],
   "source": [
    "from sklearn.model_selection import train_test_split"
   ]
  },
  {
   "cell_type": "code",
   "execution_count": 23,
   "metadata": {},
   "outputs": [],
   "source": [
    "X_train, X_test, y_train, y_test = train_test_split(Xdata, Ydata,\n",
    "                                                    stratify=Ydata, \n",
    "                                                    test_size=0.10,\n",
    "                                                    random_state=seed)"
   ]
  },
  {
   "cell_type": "code",
   "execution_count": 24,
   "metadata": {},
   "outputs": [
    {
     "name": "stdout",
     "output_type": "stream",
     "text": [
      "Shape X_train: (238366, 233)\n",
      "Shape X_test: (26486, 233)\n",
      "Shape y_train: (238366,)\n",
      "Shape y_test: (26486,)\n"
     ]
    }
   ],
   "source": [
    "# verify dimentions of data for training and test\n",
    "print('Shape X_train:', X_train.shape)\n",
    "print('Shape X_test:' , X_test.shape)\n",
    "print('Shape y_train:', y_train.shape)\n",
    "print('Shape y_test:' , y_test.shape)"
   ]
  },
  {
   "cell_type": "markdown",
   "metadata": {},
   "source": [
    "### ML"
   ]
  },
  {
   "cell_type": "code",
   "execution_count": 25,
   "metadata": {},
   "outputs": [],
   "source": [
    "import time\n",
    "from sklearn.model_selection import cross_val_score, GridSearchCV, StratifiedKFold\n",
    "from sklearn.metrics import confusion_matrix,accuracy_score, roc_auc_score,f1_score, recall_score, precision_score\n",
    "from sklearn.utils import class_weight\n",
    "from sklearn.neighbors import KNeighborsClassifier\n",
    "from sklearn.ensemble import RandomForestClassifier, ExtraTreesClassifier\n",
    "from sklearn.ensemble import GradientBoostingClassifier, BaggingClassifier, AdaBoostClassifier\n",
    "from sklearn.metrics import classification_report\n",
    "from sklearn.naive_bayes import GaussianNB\n",
    "from sklearn.discriminant_analysis import LinearDiscriminantAnalysis\n",
    "from sklearn.tree import DecisionTreeClassifier\n",
    "from sklearn.linear_model import LogisticRegression\n",
    "from sklearn.svm import SVC\n",
    "from sklearn.neural_network import MLPClassifier"
   ]
  },
  {
   "cell_type": "code",
   "execution_count": 26,
   "metadata": {},
   "outputs": [],
   "source": [
    "def set_weights(y_data, option='balanced'):\n",
    "    \"\"\"Estimate class weights for umbalanced dataset\n",
    "       If ‘balanced’, class weights will be given by n_samples / (n_classes * np.bincount(y)). \n",
    "       If a dictionary is given, keys are classes and values are corresponding class weights. \n",
    "       If None is given, the class weights will be uniform \"\"\"\n",
    "    cw = class_weight.compute_class_weight(option, np.unique(y_data), y_data)\n",
    "    w = {i:j for i,j in zip(np.unique(y_data), cw)}\n",
    "    return w"
   ]
  },
  {
   "cell_type": "code",
   "execution_count": null,
   "metadata": {},
   "outputs": [],
   "source": [
    "class_weights = set_weights(Ydata)"
   ]
  },
  {
   "cell_type": "code",
   "execution_count": 28,
   "metadata": {},
   "outputs": [
    {
     "name": "stdout",
     "output_type": "stream",
     "text": [
      "Classes= {'Android': 14.665116279069768, 'BSD': 2.649950973525704, 'Linux': 0.2654263826921458, 'Solaris': 7.6808769792935445, 'Windows': 0.5636396138720057, 'iOS': 2.195682451253482, 'macOS': 2.3413366336633663}\n"
     ]
    }
   ],
   "source": [
    "print(\"Classes=\",class_weights)"
   ]
  },
  {
   "cell_type": "code",
   "execution_count": 29,
   "metadata": {},
   "outputs": [],
   "source": [
    "# define a list of classifiers to train as baseline classifiers\n",
    "classifiers = [\n",
    "    GaussianNB(),\n",
    "    LinearDiscriminantAnalysis(), # No random_state\n",
    "    LogisticRegression(n_jobs=-1,solver='lbfgs',random_state=seed,class_weight=class_weights),\n",
    "    MLPClassifier(hidden_layer_sizes= (30), random_state = seed, shuffle=False, solver='adam',activation='relu',batch_size=500, max_iter=5000),\n",
    "    DecisionTreeClassifier(random_state=seed,class_weight=class_weights),\n",
    "    RandomForestClassifier(n_jobs=-1,random_state=seed,class_weight=class_weights),\n",
    "    BaggingClassifier(n_jobs=-1,random_state=seed),\n",
    "]"
   ]
  },
  {
   "cell_type": "code",
   "execution_count": 29,
   "metadata": {},
   "outputs": [],
   "source": [
    "# training and metrics (ACC, precision, recall, f1score) for a classifier\n",
    "def ML_baseline(cls, X_tr, y_tr, X_ts, y_ts, seed=42, classes=['0','1']):\n",
    "    ACC = 0\n",
    "    AUROC = 0\n",
    "    precision = 0 \n",
    "    recall = 0\n",
    "    f1score = 0\n",
    "    \n",
    "    cls_name = type(cls).__name__\n",
    "    \n",
    "    start_time = time.time()\n",
    "    cls.fit(X_tr, y_tr) # TRAINING!\n",
    "    print('\\n---->', \"training: %0.2f mins \\n\\n\" % ((time.time() - start_time)/60))\n",
    "    \n",
    "    # predictions\n",
    "    y_pred  = cls.predict(X_ts)             # predict classes\n",
    "    y_probs = cls.predict_proba(X_ts)[:, 1] # predict probabilities of classes\n",
    "    cls_rep = classification_report(y_ts, y_pred, target_names=classes,\n",
    "                                    output_dict=True, digits=3)\n",
    "    # print classification report\n",
    "    #print(cls_rep)\n",
    "    \n",
    "    ACC       = accuracy_score(y_ts, y_pred)\n",
    "    #AUROC     = roc_auc_score(y_ts, y_probs) # this is working for 2-classes classification only!!!\n",
    "    precision = cls_rep['weighted avg']['precision']\n",
    "    recall    = cls_rep['weighted avg']['recall']\n",
    "    f1score   = cls_rep['weighted avg']['f1-score']  \n",
    "    \n",
    "    # print metrics\n",
    "    print(\"\\n\", \"ACC=\", ACC, \"precision=\", precision, \"recall=\", recall, \"f1score=\",f1score)\n",
    "    \n",
    "    return cls, ACC, precision, recall, f1score"
   ]
  },
  {
   "cell_type": "code",
   "execution_count": 31,
   "metadata": {},
   "outputs": [
    {
     "name": "stdout",
     "output_type": "stream",
     "text": [
      "\n",
      "**********************************\n",
      " GaussianNB()\n",
      "> GaussianNB training: 0.01 mins \n",
      "\n",
      "\n",
      " GaussianNB() ACC= 0.10764177301215737 precision= 0.6290698591863442 recall= 0.10764177301215737 f1score= 0.05813684642520353\n",
      "\n",
      "**********************************\n",
      " LinearDiscriminantAnalysis()\n",
      "> LinearDiscriminantAnalysis training: 0.15 mins \n",
      "\n",
      "\n",
      " LinearDiscriminantAnalysis() ACC= 0.957335951068489 precision= 0.9627511448657574 recall= 0.957335951068489 f1score= 0.9585745382704255\n",
      "\n",
      "**********************************\n",
      " LogisticRegression(class_weight={'Android': 14.665116279069768,\n",
      "                                 'BSD': 2.649950973525704,\n",
      "                                 'Linux': 0.2654263826921458,\n",
      "                                 'Solaris': 7.6808769792935445,\n",
      "                                 'Windows': 0.5636396138720057,\n",
      "                                 'iOS': 2.195682451253482,\n",
      "                                 'macOS': 2.3413366336633663},\n",
      "                   n_jobs=-1, random_state=2021)\n",
      "> LogisticRegression training: 2.27 mins \n",
      "\n",
      "\n",
      " LogisticRegression(class_weight={'Android': 14.665116279069768,\n",
      "                                 'BSD': 2.649950973525704,\n",
      "                                 'Linux': 0.2654263826921458,\n",
      "                                 'Solaris': 7.6808769792935445,\n",
      "                                 'Windows': 0.5636396138720057,\n",
      "                                 'iOS': 2.195682451253482,\n",
      "                                 'macOS': 2.3413366336633663},\n",
      "                   n_jobs=-1, random_state=2021) ACC= 0.11013365551612173 precision= 0.7812918202308964 recall= 0.11013365551612173 f1score= 0.0795505615942325\n",
      "\n",
      "**********************************\n",
      " MLPClassifier(batch_size=500, hidden_layer_sizes=30, max_iter=5000,\n",
      "              random_state=2021, shuffle=False)\n",
      "> MLPClassifier training: 0.39 mins \n",
      "\n",
      "\n",
      " MLPClassifier(batch_size=500, hidden_layer_sizes=30, max_iter=5000,\n",
      "              random_state=2021, shuffle=False) ACC= 0.9314732311409801 precision= 0.9463979494167847 recall= 0.9314732311409801 f1score= 0.9172310108509961\n",
      "\n",
      "**********************************\n",
      " DecisionTreeClassifier(class_weight={'Android': 14.665116279069768,\n",
      "                                     'BSD': 2.649950973525704,\n",
      "                                     'Linux': 0.2654263826921458,\n",
      "                                     'Solaris': 7.6808769792935445,\n",
      "                                     'Windows': 0.5636396138720057,\n",
      "                                     'iOS': 2.195682451253482,\n",
      "                                     'macOS': 2.3413366336633663},\n",
      "                       random_state=2021)\n",
      "> DecisionTreeClassifier training: 0.14 mins \n",
      "\n",
      "\n",
      " DecisionTreeClassifier(class_weight={'Android': 14.665116279069768,\n",
      "                                     'BSD': 2.649950973525704,\n",
      "                                     'Linux': 0.2654263826921458,\n",
      "                                     'Solaris': 7.6808769792935445,\n",
      "                                     'Windows': 0.5636396138720057,\n",
      "                                     'iOS': 2.195682451253482,\n",
      "                                     'macOS': 2.3413366336633663},\n",
      "                       random_state=2021) ACC= 0.9521634070829872 precision= 0.9516821673352375 recall= 0.9521634070829872 f1score= 0.9518533030021807\n",
      "\n",
      "**********************************\n",
      " RandomForestClassifier(class_weight={'Android': 14.665116279069768,\n",
      "                                     'BSD': 2.649950973525704,\n",
      "                                     'Linux': 0.2654263826921458,\n",
      "                                     'Solaris': 7.6808769792935445,\n",
      "                                     'Windows': 0.5636396138720057,\n",
      "                                     'iOS': 2.195682451253482,\n",
      "                                     'macOS': 2.3413366336633663},\n",
      "                       n_jobs=-1, random_state=2021)\n",
      "> RandomForestClassifier training: 0.20 mins \n",
      "\n",
      "\n",
      " RandomForestClassifier(class_weight={'Android': 14.665116279069768,\n",
      "                                     'BSD': 2.649950973525704,\n",
      "                                     'Linux': 0.2654263826921458,\n",
      "                                     'Solaris': 7.6808769792935445,\n",
      "                                     'Windows': 0.5636396138720057,\n",
      "                                     'iOS': 2.195682451253482,\n",
      "                                     'macOS': 2.3413366336633663},\n",
      "                       n_jobs=-1, random_state=2021) ACC= 0.960545193687231 precision= 0.9636042546728731 recall= 0.960545193687231 f1score= 0.9584373767394512\n",
      "\n",
      "**********************************\n",
      " BaggingClassifier(n_jobs=-1, random_state=2021)\n",
      "> BaggingClassifier training: 0.21 mins \n",
      "\n",
      "\n",
      " BaggingClassifier(n_jobs=-1, random_state=2021) ACC= 0.9579400437967228 precision= 0.961020202512952 recall= 0.9579400437967228 f1score= 0.9578190022830737\n"
     ]
    },
    {
     "data": {
      "text/html": [
       "<div>\n",
       "<style scoped>\n",
       "    .dataframe tbody tr th:only-of-type {\n",
       "        vertical-align: middle;\n",
       "    }\n",
       "\n",
       "    .dataframe tbody tr th {\n",
       "        vertical-align: top;\n",
       "    }\n",
       "\n",
       "    .dataframe thead th {\n",
       "        text-align: right;\n",
       "    }\n",
       "</style>\n",
       "<table border=\"1\" class=\"dataframe\">\n",
       "  <thead>\n",
       "    <tr style=\"text-align: right;\">\n",
       "      <th></th>\n",
       "      <th>Method</th>\n",
       "      <th>ACC</th>\n",
       "      <th>precision</th>\n",
       "      <th>recall</th>\n",
       "      <th>f1-score</th>\n",
       "    </tr>\n",
       "  </thead>\n",
       "  <tbody>\n",
       "    <tr>\n",
       "      <th>0</th>\n",
       "      <td>GaussianNB</td>\n",
       "      <td>0.107642</td>\n",
       "      <td>0.629070</td>\n",
       "      <td>0.107642</td>\n",
       "      <td>0.058137</td>\n",
       "    </tr>\n",
       "    <tr>\n",
       "      <th>1</th>\n",
       "      <td>LinearDiscriminantAnalysis</td>\n",
       "      <td>0.957336</td>\n",
       "      <td>0.962751</td>\n",
       "      <td>0.957336</td>\n",
       "      <td>0.958575</td>\n",
       "    </tr>\n",
       "    <tr>\n",
       "      <th>2</th>\n",
       "      <td>LogisticRegression</td>\n",
       "      <td>0.110134</td>\n",
       "      <td>0.781292</td>\n",
       "      <td>0.110134</td>\n",
       "      <td>0.079551</td>\n",
       "    </tr>\n",
       "    <tr>\n",
       "      <th>3</th>\n",
       "      <td>MLPClassifier</td>\n",
       "      <td>0.931473</td>\n",
       "      <td>0.946398</td>\n",
       "      <td>0.931473</td>\n",
       "      <td>0.917231</td>\n",
       "    </tr>\n",
       "    <tr>\n",
       "      <th>4</th>\n",
       "      <td>DecisionTreeClassifier</td>\n",
       "      <td>0.952163</td>\n",
       "      <td>0.951682</td>\n",
       "      <td>0.952163</td>\n",
       "      <td>0.951853</td>\n",
       "    </tr>\n",
       "    <tr>\n",
       "      <th>5</th>\n",
       "      <td>RandomForestClassifier</td>\n",
       "      <td>0.960545</td>\n",
       "      <td>0.963604</td>\n",
       "      <td>0.960545</td>\n",
       "      <td>0.958437</td>\n",
       "    </tr>\n",
       "    <tr>\n",
       "      <th>6</th>\n",
       "      <td>BaggingClassifier</td>\n",
       "      <td>0.957940</td>\n",
       "      <td>0.961020</td>\n",
       "      <td>0.957940</td>\n",
       "      <td>0.957819</td>\n",
       "    </tr>\n",
       "  </tbody>\n",
       "</table>\n",
       "</div>"
      ],
      "text/plain": [
       "                       Method       ACC  precision    recall  f1-score\n",
       "0                  GaussianNB  0.107642   0.629070  0.107642  0.058137\n",
       "1  LinearDiscriminantAnalysis  0.957336   0.962751  0.957336  0.958575\n",
       "2          LogisticRegression  0.110134   0.781292  0.110134  0.079551\n",
       "3               MLPClassifier  0.931473   0.946398  0.931473  0.917231\n",
       "4      DecisionTreeClassifier  0.952163   0.951682  0.952163  0.951853\n",
       "5      RandomForestClassifier  0.960545   0.963604  0.960545  0.958437\n",
       "6           BaggingClassifier  0.957940   0.961020  0.957940  0.957819"
      ]
     },
     "execution_count": 31,
     "metadata": {},
     "output_type": "execute_result"
    }
   ],
   "source": [
    "# create a dataframe for ML baseline\n",
    "df_ML = pd.DataFrame(columns=['Method', 'ACC','precision' ,'recall' ,'f1-score' ])\n",
    "\n",
    "for cls in classifiers:\n",
    "    print(\"\\n**********************************\\n\", cls_name = type(cls).__name__)\n",
    "    cls_fit, ACC, precision,recall,f1score=ML_baseline(cls, X_train, y_train, X_test, y_test, seed=seed,classes=['1','2','3','4','5','6','7'])\n",
    "    df_ML = df_ML.append({'Method': str(type(cls).__name__),\n",
    "                          'ACC': float(ACC),\n",
    "                          #'AUROC': float(AUROC),\n",
    "                          'precision': float(precision),\n",
    "                          'recall': float(recall),\n",
    "                          'f1-score': float(f1score)}, ignore_index=True)\n",
    "\n",
    "df_ML"
   ]
  },
  {
   "cell_type": "code",
   "execution_count": 34,
   "metadata": {},
   "outputs": [],
   "source": [
    "df_ML.to_csv('ML_results.csv', index=False) # write to file the results"
   ]
  },
  {
   "cell_type": "markdown",
   "metadata": {},
   "source": [
    "### Try a better classifier for the best ML method\n",
    "\n",
    "We are using the best methods from baseline to find better hyperparameters for a better model."
   ]
  },
  {
   "cell_type": "code",
   "execution_count": 36,
   "metadata": {},
   "outputs": [],
   "source": [
    "# out best model was RF:\n",
    "cls=RandomForestClassifier(n_jobs=-1,random_state=seed,class_weight=class_weights)"
   ]
  },
  {
   "cell_type": "code",
   "execution_count": 37,
   "metadata": {},
   "outputs": [
    {
     "data": {
      "text/plain": [
       "{'bootstrap': True,\n",
       " 'ccp_alpha': 0.0,\n",
       " 'class_weight': {'Android': 14.665116279069768,\n",
       "  'BSD': 2.649950973525704,\n",
       "  'Linux': 0.2654263826921458,\n",
       "  'Solaris': 7.6808769792935445,\n",
       "  'Windows': 0.5636396138720057,\n",
       "  'iOS': 2.195682451253482,\n",
       "  'macOS': 2.3413366336633663},\n",
       " 'criterion': 'gini',\n",
       " 'max_depth': None,\n",
       " 'max_features': 'auto',\n",
       " 'max_leaf_nodes': None,\n",
       " 'max_samples': None,\n",
       " 'min_impurity_decrease': 0.0,\n",
       " 'min_impurity_split': None,\n",
       " 'min_samples_leaf': 1,\n",
       " 'min_samples_split': 2,\n",
       " 'min_weight_fraction_leaf': 0.0,\n",
       " 'n_estimators': 100,\n",
       " 'n_jobs': -1,\n",
       " 'oob_score': False,\n",
       " 'random_state': 2021,\n",
       " 'verbose': 0,\n",
       " 'warm_start': False}"
      ]
     },
     "execution_count": 37,
     "metadata": {},
     "output_type": "execute_result"
    }
   ],
   "source": [
    "# check all the parameters\n",
    "cls.get_params()"
   ]
  },
  {
   "cell_type": "code",
   "execution_count": 48,
   "metadata": {},
   "outputs": [],
   "source": [
    "# define a list of classifiers to train with different params\n",
    "classifiers = [\n",
    "    RandomForestClassifier(n_estimators=10, n_jobs=-1,random_state=seed,class_weight=class_weights),\n",
    "    RandomForestClassifier(n_estimators=20, n_jobs=-1,random_state=seed,class_weight=class_weights),\n",
    "    RandomForestClassifier(n_estimators=50, n_jobs=-1,random_state=seed,class_weight=class_weights),\n",
    "    RandomForestClassifier(n_estimators=100, n_jobs=-1,random_state=seed,class_weight=class_weights),\n",
    "    RandomForestClassifier(n_estimators=200, n_jobs=-1,random_state=seed,class_weight=class_weights),\n",
    "    RandomForestClassifier(n_estimators=300, n_jobs=-1,random_state=seed,class_weight=class_weights),\n",
    "    RandomForestClassifier(n_estimators=500, n_jobs=-1,random_state=seed,class_weight=class_weights),\n",
    "]"
   ]
  },
  {
   "cell_type": "code",
   "execution_count": 49,
   "metadata": {},
   "outputs": [
    {
     "name": "stdout",
     "output_type": "stream",
     "text": [
      "\n",
      "**********************************\n",
      " RandomForestClassifier(class_weight={'Android': 14.665116279069768,\n",
      "                                     'BSD': 2.649950973525704,\n",
      "                                     'Linux': 0.2654263826921458,\n",
      "                                     'Solaris': 7.6808769792935445,\n",
      "                                     'Windows': 0.5636396138720057,\n",
      "                                     'iOS': 2.195682451253482,\n",
      "                                     'macOS': 2.3413366336633663},\n",
      "                       n_estimators=10, n_jobs=-1, random_state=2021)\n",
      "\n",
      "----> training: 0.03 mins \n",
      "\n",
      "\n",
      "\n",
      " ACC= 0.959185985048705 precision= 0.9613321153073082 recall= 0.959185985048705 f1score= 0.9585854966813839\n",
      "\n",
      "**********************************\n",
      " RandomForestClassifier(class_weight={'Android': 14.665116279069768,\n",
      "                                     'BSD': 2.649950973525704,\n",
      "                                     'Linux': 0.2654263826921458,\n",
      "                                     'Solaris': 7.6808769792935445,\n",
      "                                     'Windows': 0.5636396138720057,\n",
      "                                     'iOS': 2.195682451253482,\n",
      "                                     'macOS': 2.3413366336633663},\n",
      "                       n_estimators=20, n_jobs=-1, random_state=2021)\n",
      "\n",
      "----> training: 0.05 mins \n",
      "\n",
      "\n",
      "\n",
      " ACC= 0.9594125198217927 precision= 0.9617775450737122 recall= 0.9594125198217927 f1score= 0.9584898765266567\n",
      "\n",
      "**********************************\n",
      " RandomForestClassifier(class_weight={'Android': 14.665116279069768,\n",
      "                                     'BSD': 2.649950973525704,\n",
      "                                     'Linux': 0.2654263826921458,\n",
      "                                     'Solaris': 7.6808769792935445,\n",
      "                                     'Windows': 0.5636396138720057,\n",
      "                                     'iOS': 2.195682451253482,\n",
      "                                     'macOS': 2.3413366336633663},\n",
      "                       n_estimators=50, n_jobs=-1, random_state=2021)\n",
      "\n",
      "----> training: 0.11 mins \n",
      "\n",
      "\n",
      "\n",
      " ACC= 0.9609605074378917 precision= 0.9640051377869274 recall= 0.9609605074378917 f1score= 0.959371022182299\n",
      "\n",
      "**********************************\n",
      " RandomForestClassifier(class_weight={'Android': 14.665116279069768,\n",
      "                                     'BSD': 2.649950973525704,\n",
      "                                     'Linux': 0.2654263826921458,\n",
      "                                     'Solaris': 7.6808769792935445,\n",
      "                                     'Windows': 0.5636396138720057,\n",
      "                                     'iOS': 2.195682451253482,\n",
      "                                     'macOS': 2.3413366336633663},\n",
      "                       n_jobs=-1, random_state=2021)\n",
      "\n",
      "----> training: 0.20 mins \n",
      "\n",
      "\n",
      "\n",
      " ACC= 0.960545193687231 precision= 0.9636042546728731 recall= 0.960545193687231 f1score= 0.9584373767394512\n",
      "\n",
      "**********************************\n",
      " RandomForestClassifier(class_weight={'Android': 14.665116279069768,\n",
      "                                     'BSD': 2.649950973525704,\n",
      "                                     'Linux': 0.2654263826921458,\n",
      "                                     'Solaris': 7.6808769792935445,\n",
      "                                     'Windows': 0.5636396138720057,\n",
      "                                     'iOS': 2.195682451253482,\n",
      "                                     'macOS': 2.3413366336633663},\n",
      "                       n_estimators=200, n_jobs=-1, random_state=2021)\n",
      "\n",
      "----> training: 0.39 mins \n",
      "\n",
      "\n",
      "\n",
      " ACC= 0.9601676357320849 precision= 0.9629115291805387 recall= 0.9601676357320849 f1score= 0.9577649431485\n",
      "\n",
      "**********************************\n",
      " RandomForestClassifier(class_weight={'Android': 14.665116279069768,\n",
      "                                     'BSD': 2.649950973525704,\n",
      "                                     'Linux': 0.2654263826921458,\n",
      "                                     'Solaris': 7.6808769792935445,\n",
      "                                     'Windows': 0.5636396138720057,\n",
      "                                     'iOS': 2.195682451253482,\n",
      "                                     'macOS': 2.3413366336633663},\n",
      "                       n_estimators=300, n_jobs=-1, random_state=2021)\n",
      "\n",
      "----> training: 0.58 mins \n",
      "\n",
      "\n",
      "\n",
      " ACC= 0.9602431473231141 precision= 0.9630746118681041 recall= 0.9602431473231141 f1score= 0.9578395171268472\n",
      "\n",
      "**********************************\n",
      " RandomForestClassifier(class_weight={'Android': 14.665116279069768,\n",
      "                                     'BSD': 2.649950973525704,\n",
      "                                     'Linux': 0.2654263826921458,\n",
      "                                     'Solaris': 7.6808769792935445,\n",
      "                                     'Windows': 0.5636396138720057,\n",
      "                                     'iOS': 2.195682451253482,\n",
      "                                     'macOS': 2.3413366336633663},\n",
      "                       n_estimators=500, n_jobs=-1, random_state=2021)\n",
      "\n",
      "----> training: 0.96 mins \n",
      "\n",
      "\n",
      "\n",
      " ACC= 0.9603941705051725 precision= 0.9633643719595969 recall= 0.9603941705051725 f1score= 0.957886975837444\n"
     ]
    }
   ],
   "source": [
    "# create a dataframe for ML baseline\n",
    "df_ML2 = pd.DataFrame(columns=['Method', 'ACC','precision' ,'recall' ,'f1-score' ])\n",
    "df_ML2\n",
    "\n",
    "for cls in classifiers:\n",
    "    print(\"\\n**********************************\\n\", cls)\n",
    "    cls_fit, ACC, precision,recall,f1score=ML_baseline(cls, X_train, y_train, X_test, y_test, seed=seed,classes=['Android', 'BSD', 'Linux', 'Solaris', 'Windows', 'iOS', 'macOS'])\n",
    "    df_ML2 = df_ML2.append({'Method': str(type(cls).__name__)+'-NoTrees='+str(cls.get_params()['n_estimators']),\n",
    "                            'ACC': float(ACC),\n",
    "                            #'AUROC': float(AUROC),\n",
    "                            'precision': float(precision),\n",
    "                            'recall': float(recall),\n",
    "                            'f1-score': float(f1score)}, ignore_index=True)\n"
   ]
  },
  {
   "cell_type": "code",
   "execution_count": 50,
   "metadata": {},
   "outputs": [
    {
     "data": {
      "text/html": [
       "<div>\n",
       "<style scoped>\n",
       "    .dataframe tbody tr th:only-of-type {\n",
       "        vertical-align: middle;\n",
       "    }\n",
       "\n",
       "    .dataframe tbody tr th {\n",
       "        vertical-align: top;\n",
       "    }\n",
       "\n",
       "    .dataframe thead th {\n",
       "        text-align: right;\n",
       "    }\n",
       "</style>\n",
       "<table border=\"1\" class=\"dataframe\">\n",
       "  <thead>\n",
       "    <tr style=\"text-align: right;\">\n",
       "      <th></th>\n",
       "      <th>Method</th>\n",
       "      <th>ACC</th>\n",
       "      <th>precision</th>\n",
       "      <th>recall</th>\n",
       "      <th>f1-score</th>\n",
       "    </tr>\n",
       "  </thead>\n",
       "  <tbody>\n",
       "    <tr>\n",
       "      <th>0</th>\n",
       "      <td>RandomForestClassifier-NoTrees=10</td>\n",
       "      <td>0.959186</td>\n",
       "      <td>0.961332</td>\n",
       "      <td>0.959186</td>\n",
       "      <td>0.958585</td>\n",
       "    </tr>\n",
       "    <tr>\n",
       "      <th>1</th>\n",
       "      <td>RandomForestClassifier-NoTrees=20</td>\n",
       "      <td>0.959413</td>\n",
       "      <td>0.961778</td>\n",
       "      <td>0.959413</td>\n",
       "      <td>0.958490</td>\n",
       "    </tr>\n",
       "    <tr>\n",
       "      <th>2</th>\n",
       "      <td>RandomForestClassifier-NoTrees=50</td>\n",
       "      <td>0.960961</td>\n",
       "      <td>0.964005</td>\n",
       "      <td>0.960961</td>\n",
       "      <td>0.959371</td>\n",
       "    </tr>\n",
       "    <tr>\n",
       "      <th>3</th>\n",
       "      <td>RandomForestClassifier-NoTrees=100</td>\n",
       "      <td>0.960545</td>\n",
       "      <td>0.963604</td>\n",
       "      <td>0.960545</td>\n",
       "      <td>0.958437</td>\n",
       "    </tr>\n",
       "    <tr>\n",
       "      <th>4</th>\n",
       "      <td>RandomForestClassifier-NoTrees=200</td>\n",
       "      <td>0.960168</td>\n",
       "      <td>0.962912</td>\n",
       "      <td>0.960168</td>\n",
       "      <td>0.957765</td>\n",
       "    </tr>\n",
       "    <tr>\n",
       "      <th>5</th>\n",
       "      <td>RandomForestClassifier-NoTrees=300</td>\n",
       "      <td>0.960243</td>\n",
       "      <td>0.963075</td>\n",
       "      <td>0.960243</td>\n",
       "      <td>0.957840</td>\n",
       "    </tr>\n",
       "    <tr>\n",
       "      <th>6</th>\n",
       "      <td>RandomForestClassifier-NoTrees=500</td>\n",
       "      <td>0.960394</td>\n",
       "      <td>0.963364</td>\n",
       "      <td>0.960394</td>\n",
       "      <td>0.957887</td>\n",
       "    </tr>\n",
       "  </tbody>\n",
       "</table>\n",
       "</div>"
      ],
      "text/plain": [
       "                               Method       ACC  precision    recall  f1-score\n",
       "0   RandomForestClassifier-NoTrees=10  0.959186   0.961332  0.959186  0.958585\n",
       "1   RandomForestClassifier-NoTrees=20  0.959413   0.961778  0.959413  0.958490\n",
       "2   RandomForestClassifier-NoTrees=50  0.960961   0.964005  0.960961  0.959371\n",
       "3  RandomForestClassifier-NoTrees=100  0.960545   0.963604  0.960545  0.958437\n",
       "4  RandomForestClassifier-NoTrees=200  0.960168   0.962912  0.960168  0.957765\n",
       "5  RandomForestClassifier-NoTrees=300  0.960243   0.963075  0.960243  0.957840\n",
       "6  RandomForestClassifier-NoTrees=500  0.960394   0.963364  0.960394  0.957887"
      ]
     },
     "execution_count": 50,
     "metadata": {},
     "output_type": "execute_result"
    }
   ],
   "source": [
    "df_ML2"
   ]
  },
  {
   "cell_type": "code",
   "execution_count": 51,
   "metadata": {},
   "outputs": [],
   "source": [
    "df_ML2.to_csv('ML_results_best1.csv', index=False)"
   ]
  },
  {
   "cell_type": "code",
   "execution_count": 46,
   "metadata": {},
   "outputs": [],
   "source": [
    "# list(cls.classes_)"
   ]
  },
  {
   "cell_type": "markdown",
   "metadata": {},
   "source": [
    "### Grid search - search for the best params"
   ]
  },
  {
   "cell_type": "code",
   "execution_count": 30,
   "metadata": {},
   "outputs": [],
   "source": [
    "paramsx = {'bootstrap': [True, False],\n",
    "           'max_depth': [10, 20, 30, 40, 50, None],\n",
    "           'max_features': ['auto', 'sqrt'],\n",
    "           'min_samples_leaf': [1, 2, 4],\n",
    "           'min_samples_split': [2, 5, 10],\n",
    "           'n_estimators': [50]\n",
    "          }"
   ]
  },
  {
   "cell_type": "code",
   "execution_count": 31,
   "metadata": {},
   "outputs": [],
   "source": [
    "forest= RandomForestClassifier(random_state=seed,class_weight=class_weights)"
   ]
  },
  {
   "cell_type": "code",
   "execution_count": 32,
   "metadata": {},
   "outputs": [
    {
     "name": "stdout",
     "output_type": "stream",
     "text": [
      "Fitting 3 folds for each of 216 candidates, totalling 648 fits\n"
     ]
    }
   ],
   "source": [
    "gridF = GridSearchCV(forest, paramsx, cv = 3, verbose = 2, n_jobs = -1)\n",
    "bestF = gridF.fit(X_train, y_train)"
   ]
  },
  {
   "cell_type": "code",
   "execution_count": 33,
   "metadata": {},
   "outputs": [
    {
     "data": {
      "text/plain": [
       "{'bootstrap': False,\n",
       " 'max_depth': 20,\n",
       " 'max_features': 'auto',\n",
       " 'min_samples_leaf': 1,\n",
       " 'min_samples_split': 5,\n",
       " 'n_estimators': 50}"
      ]
     },
     "execution_count": 33,
     "metadata": {},
     "output_type": "execute_result"
    }
   ],
   "source": [
    "bestF.best_params_ # params of the best model"
   ]
  },
  {
   "cell_type": "markdown",
   "metadata": {},
   "source": []
  },
  {
   "cell_type": "code",
   "execution_count": 34,
   "metadata": {},
   "outputs": [],
   "source": [
    "from sklearn import metrics\n",
    "\n",
    "def evaluate(model, test_features, test_labels):\n",
    "    y_pred = model.predict(test_features)\n",
    "    accuracy = metrics.accuracy_score(y_test, y_pred)\n",
    "    print (accuracy)\n",
    "    print(confusion_matrix(y_test,y_pred))"
   ]
  },
  {
   "cell_type": "code",
   "execution_count": 35,
   "metadata": {},
   "outputs": [
    {
     "name": "stdout",
     "output_type": "stream",
     "text": [
      "0.9609605074378917\n",
      "[[  248     0    10     0     0     0     0]\n",
      " [    0  1428     0     0     0     0     0]\n",
      " [  255     0 14000     0     0     0     0]\n",
      " [    0     0     0   493     0     0     0]\n",
      " [    0     0     0     0  6713     0     0]\n",
      " [    0     2     0     0     0  1632    89]\n",
      " [    0     0     1     0     0   677   938]]\n"
     ]
    }
   ],
   "source": [
    "best_grid = bestF.best_estimator_ # the best model from grid search\n",
    "\n",
    "evaluate(best_grid,X_test,y_test)"
   ]
  },
  {
   "cell_type": "markdown",
   "metadata": {},
   "source": [
    "Classes= {'Android': 14.665116279069768, 'BSD': 2.649950973525704, 'Linux': 0.2654263826921458, 'Solaris': 7.6808769792935445, 'Windows': 0.5636396138720057, 'iOS': 2.195682451253482, 'macOS': 2.3413366336633663}\n",
    "\n",
    "Linux      142548\n",
    "Windows     67128\n",
    "iOS         17232\n",
    "macOS       16160\n",
    "BSD         14278\n",
    "Solaris      4926\n",
    "Android      2580"
   ]
  },
  {
   "cell_type": "code",
   "execution_count": null,
   "metadata": {},
   "outputs": [],
   "source": []
  },
  {
   "cell_type": "markdown",
   "metadata": {},
   "source": [
    "### Feature importance"
   ]
  },
  {
   "cell_type": "code",
   "execution_count": null,
   "metadata": {},
   "outputs": [],
   "source": [
    "# calculate ACC\n",
    "y_pred=clf.predict(X_test)\n",
    "print(list(clf.classes_))\n",
    "#Import scikit-learn metrics module for accuracy calculation\n",
    "from sklearn import metrics\n",
    "\n",
    "# Model Accuracy, how often is the classifier correct?\n",
    "print(\"Accuracy:\",metrics.accuracy_score(y_test, y_pred))\n",
    "\n",
    "feature_imp = pd.Series(clf.feature_importances_,index=df.columns[:-1]).sort_values(ascending=False)\n",
    "feature_imp[:30]"
   ]
  }
 ],
 "metadata": {
  "kernelspec": {
   "display_name": "Python 3 (ipykernel)",
   "language": "python",
   "name": "python3"
  },
  "language_info": {
   "codemirror_mode": {
    "name": "ipython",
    "version": 3
   },
   "file_extension": ".py",
   "mimetype": "text/x-python",
   "name": "python",
   "nbconvert_exporter": "python",
   "pygments_lexer": "ipython3",
   "version": "3.11.1"
  }
 },
 "nbformat": 4,
 "nbformat_minor": 5
}
