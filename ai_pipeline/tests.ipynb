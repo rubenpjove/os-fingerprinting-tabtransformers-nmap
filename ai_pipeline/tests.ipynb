{
 "cells": [
  {
   "cell_type": "markdown",
   "metadata": {},
   "source": [
    "# Applying TabTranformers to OS fingerprinting task using nmap dataset"
   ]
  },
  {
   "cell_type": "code",
   "execution_count": 1,
   "id": "61f4781c",
   "metadata": {},
   "outputs": [],
   "source": [
    "import torch\n",
    "import torch.nn as nn\n",
    "from tab_transformer_pytorch import TabTransformer\n",
    "\n",
    "cont_mean_std = torch.randn(10, 2)\n",
    "\n",
    "model = TabTransformer(\n",
    "    categories = (10, 5, 6, 5, 8),      # tuple containing the number of unique values within each category\n",
    "    num_continuous = 10,                # number of continuous values\n",
    "    dim = 32,                           # dimension, paper set at 32\n",
    "    dim_out = 1,                        # binary prediction, but could be anything\n",
    "    depth = 6,                          # depth, paper recommended 6\n",
    "    heads = 8,                          # heads, paper recommends 8\n",
    "    attn_dropout = 0.1,                 # post-attention dropout\n",
    "    ff_dropout = 0.1,                   # feed forward dropout\n",
    "    mlp_hidden_mults = (4, 2),          # relative multiples of each hidden dimension of the last mlp to logits\n",
    "    mlp_act = nn.ReLU(),                # activation for final mlp, defaults to relu, but could be anything else (selu etc)\n",
    "    continuous_mean_std = cont_mean_std # (optional) - normalize the continuous values before layer norm\n",
    ")\n",
    "\n",
    "x_categ = torch.randint(0, 5, (1, 5))     # category values, from 0 - max number of categories, in the order as passed into the constructor above\n",
    "x_cont = torch.randn(1, 10)               # assume continuous values are already normalized individually\n",
    "\n",
    "pred = model(x_categ, x_cont) # (1, 1)"
   ]
  },
  {
   "cell_type": "code",
   "execution_count": 4,
   "id": "14a25d37",
   "metadata": {},
   "outputs": [
    {
     "name": "stdout",
     "output_type": "stream",
     "text": [
      "Epoch 1: Loss = 0.47005534172058105\n",
      "Epoch 2: Loss = 0.16299572587013245\n",
      "Epoch 3: Loss = 0.0054003456607460976\n",
      "Epoch 4: Loss = 0.17402833700180054\n",
      "Epoch 5: Loss = 0.013747833669185638\n",
      "Epoch 6: Loss = 0.06410405039787292\n",
      "Epoch 7: Loss = 0.07166294753551483\n",
      "Epoch 8: Loss = 0.007313206326216459\n",
      "Epoch 9: Loss = 0.014909959398210049\n",
      "Epoch 10: Loss = 0.03474622592329979\n",
      "Updated Prediction: tensor([[0.4847]], grad_fn=<AddmmBackward0>)\n"
     ]
    }
   ],
   "source": [
    "import torch\n",
    "import torch.nn as nn\n",
    "from tab_transformer_pytorch import TabTransformer\n",
    "\n",
    "# Random categorical and numerical features\n",
    "x_categ = torch.randint(0, 5, (1, 5))\n",
    "x_cont = torch.randn(1, 10)\n",
    "\n",
    "# Random predictions\n",
    "target = torch.randn(1, 1)\n",
    "\n",
    "# Train the model\n",
    "optimizer = torch.optim.Adam(model.parameters(), lr=0.001)\n",
    "criterion = nn.MSELoss()\n",
    "\n",
    "for epoch in range(10):\n",
    "    optimizer.zero_grad()\n",
    "    pred = model(x_categ, x_cont)\n",
    "    loss = criterion(pred, target)\n",
    "    loss.backward()\n",
    "    optimizer.step()\n",
    "\n",
    "    print(f\"Epoch {epoch+1}: Loss = {loss.item()}\")\n",
    "\n",
    "# Updated prediction after training\n",
    "updated_pred = model(x_categ, x_cont)\n",
    "print(\"Updated Prediction:\", updated_pred)\n"
   ]
  }
 ],
 "metadata": {
  "kernelspec": {
   "display_name": "Python 3 (ipykernel)",
   "language": "python",
   "name": "python3"
  },
  "language_info": {
   "codemirror_mode": {
    "name": "ipython",
    "version": 3
   },
   "file_extension": ".py",
   "mimetype": "text/x-python",
   "name": "python",
   "nbconvert_exporter": "python",
   "pygments_lexer": "ipython3",
   "version": "3.12.0"
  }
 },
 "nbformat": 4,
 "nbformat_minor": 5
}
